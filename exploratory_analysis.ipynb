{
 "cells": [
  {
   "cell_type": "markdown",
   "metadata": {},
   "source": [
    "# Ford GoBike Trip Data Exploration\n",
    "## by Daniel Patterson\n",
    "\n",
    "## Preliminary Wrangling\n",
    "\n",
    "The dataset used for this project is the set of trip records for Ford's GoBike bike sharing system in the San Francisco bay area publicly available on their website as of November 8, 2018. These trip records include anonymized information regarding the time, location, bike, and user for trips using GoBike bikes."
   ]
  },
  {
   "cell_type": "code",
   "execution_count": 1,
   "metadata": {},
   "outputs": [],
   "source": [
    "# import all packages and set plots to be embedded inline\n",
    "import numpy as np\n",
    "import pandas as pd\n",
    "import matplotlib.pyplot as plt\n",
    "import seaborn as sb\n",
    "import requests\n",
    "import os\n",
    "\n",
    "%matplotlib inline"
   ]
  },
  {
   "cell_type": "markdown",
   "metadata": {},
   "source": [
    "### Gather Data\n",
    "Programmatically download all of the Ford GoBike trip data available at https://www.fordgobike.com/system-data."
   ]
  },
  {
   "cell_type": "code",
   "execution_count": 2,
   "metadata": {},
   "outputs": [
    {
     "name": "stdout",
     "output_type": "stream",
     "text": [
      "https://s3.amazonaws.com/fordgobike-data/201811-fordgobike-tripdata.csv.zip  not found\n",
      "https://s3.amazonaws.com/fordgobike-data/201812-fordgobike-tripdata.csv.zip  not found\n"
     ]
    }
   ],
   "source": [
    "# 2017 data is posted in a single csv file\n",
    "file = '2017_fordgobike.csv'\n",
    "if not os.path.exists(file):\n",
    "    url = 'https://s3.amazonaws.com/fordgobike-data/2017-fordgobike-tripdata.csv'\n",
    "    r = requests.get(url)\n",
    "\n",
    "    if r.status_code == 200:\n",
    "        with open(file, 'wb') as outfile:\n",
    "            outfile.write(r.content)\n",
    "    else:\n",
    "        print(url,' not found')\n",
    "\n",
    "# 2018 data is posted in monthly zipped csv files\n",
    "for i in range(12):\n",
    "    month = '%02d' % (i+1)\n",
    "    file = '2018_' + month + '_fordgobike.zip'\n",
    "    if not os.path.exists(file):\n",
    "        url = 'https://s3.amazonaws.com/fordgobike-data/2018' + month + '-fordgobike-tripdata.csv.zip'\n",
    "        r = requests.get(url)\n",
    "\n",
    "        if r.status_code == 200:\n",
    "            with open(file, 'wb') as outfile:\n",
    "                outfile.write(r.content)\n",
    "        else:\n",
    "            print(url,' not found')"
   ]
  },
  {
   "cell_type": "code",
   "execution_count": 3,
   "metadata": {},
   "outputs": [
    {
     "data": {
      "text/html": [
       "<div>\n",
       "<style scoped>\n",
       "    .dataframe tbody tr th:only-of-type {\n",
       "        vertical-align: middle;\n",
       "    }\n",
       "\n",
       "    .dataframe tbody tr th {\n",
       "        vertical-align: top;\n",
       "    }\n",
       "\n",
       "    .dataframe thead th {\n",
       "        text-align: right;\n",
       "    }\n",
       "</style>\n",
       "<table border=\"1\" class=\"dataframe\">\n",
       "  <thead>\n",
       "    <tr style=\"text-align: right;\">\n",
       "      <th></th>\n",
       "      <th>duration_sec</th>\n",
       "      <th>start_time</th>\n",
       "      <th>end_time</th>\n",
       "      <th>start_station_id</th>\n",
       "      <th>start_station_name</th>\n",
       "      <th>start_station_latitude</th>\n",
       "      <th>start_station_longitude</th>\n",
       "      <th>end_station_id</th>\n",
       "      <th>end_station_name</th>\n",
       "      <th>end_station_latitude</th>\n",
       "      <th>end_station_longitude</th>\n",
       "      <th>bike_id</th>\n",
       "      <th>user_type</th>\n",
       "      <th>member_birth_year</th>\n",
       "      <th>member_gender</th>\n",
       "    </tr>\n",
       "  </thead>\n",
       "  <tbody>\n",
       "    <tr>\n",
       "      <th>306365</th>\n",
       "      <td>751</td>\n",
       "      <td>2017-09-26 18:15:24.8620</td>\n",
       "      <td>2017-09-26 18:27:56.7280</td>\n",
       "      <td>70</td>\n",
       "      <td>Central Ave at Fell St</td>\n",
       "      <td>37.773311</td>\n",
       "      <td>-122.444293</td>\n",
       "      <td>70</td>\n",
       "      <td>Central Ave at Fell St</td>\n",
       "      <td>37.773311</td>\n",
       "      <td>-122.444293</td>\n",
       "      <td>3014</td>\n",
       "      <td>Customer</td>\n",
       "      <td>1989.0</td>\n",
       "      <td>Female</td>\n",
       "    </tr>\n",
       "    <tr>\n",
       "      <th>416786</th>\n",
       "      <td>627</td>\n",
       "      <td>2017-08-23 08:24:54.0900</td>\n",
       "      <td>2017-08-23 08:35:21.1840</td>\n",
       "      <td>72</td>\n",
       "      <td>Page St at Scott St</td>\n",
       "      <td>37.772406</td>\n",
       "      <td>-122.435650</td>\n",
       "      <td>59</td>\n",
       "      <td>S Van Ness Ave at Market St</td>\n",
       "      <td>37.774814</td>\n",
       "      <td>-122.418954</td>\n",
       "      <td>1781</td>\n",
       "      <td>Subscriber</td>\n",
       "      <td>1986.0</td>\n",
       "      <td>Male</td>\n",
       "    </tr>\n",
       "    <tr>\n",
       "      <th>423877</th>\n",
       "      <td>527</td>\n",
       "      <td>2017-08-20 17:45:47.2040</td>\n",
       "      <td>2017-08-20 17:54:34.5380</td>\n",
       "      <td>197</td>\n",
       "      <td>El Embarcadero at Grand Ave</td>\n",
       "      <td>37.808848</td>\n",
       "      <td>-122.249680</td>\n",
       "      <td>181</td>\n",
       "      <td>Grand Ave at Webster St</td>\n",
       "      <td>37.811377</td>\n",
       "      <td>-122.265192</td>\n",
       "      <td>2051</td>\n",
       "      <td>Subscriber</td>\n",
       "      <td>1988.0</td>\n",
       "      <td>Female</td>\n",
       "    </tr>\n",
       "    <tr>\n",
       "      <th>365823</th>\n",
       "      <td>452</td>\n",
       "      <td>2017-09-08 19:07:13.6990</td>\n",
       "      <td>2017-09-08 19:14:46.5330</td>\n",
       "      <td>181</td>\n",
       "      <td>Grand Ave at Webster St</td>\n",
       "      <td>37.811377</td>\n",
       "      <td>-122.265192</td>\n",
       "      <td>194</td>\n",
       "      <td>Lakeshore Ave at Trestle Glen Rd</td>\n",
       "      <td>37.811081</td>\n",
       "      <td>-122.243268</td>\n",
       "      <td>2513</td>\n",
       "      <td>Subscriber</td>\n",
       "      <td>1986.0</td>\n",
       "      <td>Male</td>\n",
       "    </tr>\n",
       "    <tr>\n",
       "      <th>89621</th>\n",
       "      <td>272</td>\n",
       "      <td>2017-11-30 09:26:35.2900</td>\n",
       "      <td>2017-11-30 09:31:08.1660</td>\n",
       "      <td>163</td>\n",
       "      <td>Lake Merritt BART Station</td>\n",
       "      <td>37.797320</td>\n",
       "      <td>-122.265320</td>\n",
       "      <td>186</td>\n",
       "      <td>Lakeside Dr at 14th St</td>\n",
       "      <td>37.801319</td>\n",
       "      <td>-122.262642</td>\n",
       "      <td>2352</td>\n",
       "      <td>Subscriber</td>\n",
       "      <td>1983.0</td>\n",
       "      <td>Male</td>\n",
       "    </tr>\n",
       "  </tbody>\n",
       "</table>\n",
       "</div>"
      ],
      "text/plain": [
       "        duration_sec                start_time                  end_time  \\\n",
       "306365           751  2017-09-26 18:15:24.8620  2017-09-26 18:27:56.7280   \n",
       "416786           627  2017-08-23 08:24:54.0900  2017-08-23 08:35:21.1840   \n",
       "423877           527  2017-08-20 17:45:47.2040  2017-08-20 17:54:34.5380   \n",
       "365823           452  2017-09-08 19:07:13.6990  2017-09-08 19:14:46.5330   \n",
       "89621            272  2017-11-30 09:26:35.2900  2017-11-30 09:31:08.1660   \n",
       "\n",
       "        start_station_id           start_station_name  start_station_latitude  \\\n",
       "306365                70       Central Ave at Fell St               37.773311   \n",
       "416786                72          Page St at Scott St               37.772406   \n",
       "423877               197  El Embarcadero at Grand Ave               37.808848   \n",
       "365823               181      Grand Ave at Webster St               37.811377   \n",
       "89621                163    Lake Merritt BART Station               37.797320   \n",
       "\n",
       "        start_station_longitude  end_station_id  \\\n",
       "306365              -122.444293              70   \n",
       "416786              -122.435650              59   \n",
       "423877              -122.249680             181   \n",
       "365823              -122.265192             194   \n",
       "89621               -122.265320             186   \n",
       "\n",
       "                        end_station_name  end_station_latitude  \\\n",
       "306365            Central Ave at Fell St             37.773311   \n",
       "416786       S Van Ness Ave at Market St             37.774814   \n",
       "423877           Grand Ave at Webster St             37.811377   \n",
       "365823  Lakeshore Ave at Trestle Glen Rd             37.811081   \n",
       "89621             Lakeside Dr at 14th St             37.801319   \n",
       "\n",
       "        end_station_longitude  bike_id   user_type  member_birth_year  \\\n",
       "306365            -122.444293     3014    Customer             1989.0   \n",
       "416786            -122.418954     1781  Subscriber             1986.0   \n",
       "423877            -122.265192     2051  Subscriber             1988.0   \n",
       "365823            -122.243268     2513  Subscriber             1986.0   \n",
       "89621             -122.262642     2352  Subscriber             1983.0   \n",
       "\n",
       "       member_gender  \n",
       "306365        Female  \n",
       "416786          Male  \n",
       "423877        Female  \n",
       "365823          Male  \n",
       "89621           Male  "
      ]
     },
     "execution_count": 3,
     "metadata": {},
     "output_type": "execute_result"
    }
   ],
   "source": [
    "# load 2017 data in to a dataframe\n",
    "trips_2017 = pd.read_csv('2017_fordgobike.csv')\n",
    "trips_2017.sample(5)"
   ]
  },
  {
   "cell_type": "code",
   "execution_count": 4,
   "metadata": {},
   "outputs": [
    {
     "data": {
      "text/html": [
       "<div>\n",
       "<style scoped>\n",
       "    .dataframe tbody tr th:only-of-type {\n",
       "        vertical-align: middle;\n",
       "    }\n",
       "\n",
       "    .dataframe tbody tr th {\n",
       "        vertical-align: top;\n",
       "    }\n",
       "\n",
       "    .dataframe thead th {\n",
       "        text-align: right;\n",
       "    }\n",
       "</style>\n",
       "<table border=\"1\" class=\"dataframe\">\n",
       "  <thead>\n",
       "    <tr style=\"text-align: right;\">\n",
       "      <th></th>\n",
       "      <th>duration_sec</th>\n",
       "      <th>start_time</th>\n",
       "      <th>end_time</th>\n",
       "      <th>start_station_id</th>\n",
       "      <th>start_station_name</th>\n",
       "      <th>start_station_latitude</th>\n",
       "      <th>start_station_longitude</th>\n",
       "      <th>end_station_id</th>\n",
       "      <th>end_station_name</th>\n",
       "      <th>end_station_latitude</th>\n",
       "      <th>end_station_longitude</th>\n",
       "      <th>bike_id</th>\n",
       "      <th>user_type</th>\n",
       "      <th>member_birth_year</th>\n",
       "      <th>member_gender</th>\n",
       "      <th>bike_share_for_all_trip</th>\n",
       "    </tr>\n",
       "  </thead>\n",
       "  <tbody>\n",
       "    <tr>\n",
       "      <th>36081</th>\n",
       "      <td>368</td>\n",
       "      <td>2018-01-22 12:01:48.9520</td>\n",
       "      <td>2018-01-22 12:07:57.7980</td>\n",
       "      <td>33</td>\n",
       "      <td>Golden Gate Ave at Hyde St</td>\n",
       "      <td>37.781650</td>\n",
       "      <td>-122.415408</td>\n",
       "      <td>59</td>\n",
       "      <td>S Van Ness Ave at Market St</td>\n",
       "      <td>37.774814</td>\n",
       "      <td>-122.418954</td>\n",
       "      <td>1966</td>\n",
       "      <td>Subscriber</td>\n",
       "      <td>1988.0</td>\n",
       "      <td>Male</td>\n",
       "      <td>No</td>\n",
       "    </tr>\n",
       "    <tr>\n",
       "      <th>17955</th>\n",
       "      <td>552</td>\n",
       "      <td>2018-01-27 09:57:31.6660</td>\n",
       "      <td>2018-01-27 10:06:43.8560</td>\n",
       "      <td>127</td>\n",
       "      <td>Valencia St at 21st St</td>\n",
       "      <td>37.756708</td>\n",
       "      <td>-122.421025</td>\n",
       "      <td>124</td>\n",
       "      <td>19th St at Florida St</td>\n",
       "      <td>37.760447</td>\n",
       "      <td>-122.410807</td>\n",
       "      <td>3299</td>\n",
       "      <td>Subscriber</td>\n",
       "      <td>1978.0</td>\n",
       "      <td>Female</td>\n",
       "      <td>No</td>\n",
       "    </tr>\n",
       "    <tr>\n",
       "      <th>23368</th>\n",
       "      <td>571</td>\n",
       "      <td>2018-01-25 17:14:53.6850</td>\n",
       "      <td>2018-01-25 17:24:25.0240</td>\n",
       "      <td>176</td>\n",
       "      <td>MacArthur BART Station</td>\n",
       "      <td>37.828410</td>\n",
       "      <td>-122.266315</td>\n",
       "      <td>173</td>\n",
       "      <td>Shattuck Ave at 55th Ave</td>\n",
       "      <td>37.840364</td>\n",
       "      <td>-122.264488</td>\n",
       "      <td>3579</td>\n",
       "      <td>Subscriber</td>\n",
       "      <td>1981.0</td>\n",
       "      <td>Male</td>\n",
       "      <td>No</td>\n",
       "    </tr>\n",
       "    <tr>\n",
       "      <th>82659</th>\n",
       "      <td>584</td>\n",
       "      <td>2018-01-05 16:28:44.2600</td>\n",
       "      <td>2018-01-05 16:38:29.0670</td>\n",
       "      <td>243</td>\n",
       "      <td>Bancroft Way at College Ave</td>\n",
       "      <td>37.869360</td>\n",
       "      <td>-122.254337</td>\n",
       "      <td>245</td>\n",
       "      <td>Downtown Berkeley BART</td>\n",
       "      <td>37.870348</td>\n",
       "      <td>-122.267764</td>\n",
       "      <td>553</td>\n",
       "      <td>Subscriber</td>\n",
       "      <td>1994.0</td>\n",
       "      <td>Male</td>\n",
       "      <td>No</td>\n",
       "    </tr>\n",
       "    <tr>\n",
       "      <th>56371</th>\n",
       "      <td>479</td>\n",
       "      <td>2018-01-16 08:14:12.7120</td>\n",
       "      <td>2018-01-16 08:22:12.2110</td>\n",
       "      <td>196</td>\n",
       "      <td>Grand Ave at Perkins St</td>\n",
       "      <td>37.808894</td>\n",
       "      <td>-122.256460</td>\n",
       "      <td>182</td>\n",
       "      <td>19th Street BART Station</td>\n",
       "      <td>37.809013</td>\n",
       "      <td>-122.268247</td>\n",
       "      <td>1834</td>\n",
       "      <td>Subscriber</td>\n",
       "      <td>1978.0</td>\n",
       "      <td>Male</td>\n",
       "      <td>No</td>\n",
       "    </tr>\n",
       "  </tbody>\n",
       "</table>\n",
       "</div>"
      ],
      "text/plain": [
       "       duration_sec                start_time                  end_time  \\\n",
       "36081           368  2018-01-22 12:01:48.9520  2018-01-22 12:07:57.7980   \n",
       "17955           552  2018-01-27 09:57:31.6660  2018-01-27 10:06:43.8560   \n",
       "23368           571  2018-01-25 17:14:53.6850  2018-01-25 17:24:25.0240   \n",
       "82659           584  2018-01-05 16:28:44.2600  2018-01-05 16:38:29.0670   \n",
       "56371           479  2018-01-16 08:14:12.7120  2018-01-16 08:22:12.2110   \n",
       "\n",
       "       start_station_id           start_station_name  start_station_latitude  \\\n",
       "36081                33   Golden Gate Ave at Hyde St               37.781650   \n",
       "17955               127       Valencia St at 21st St               37.756708   \n",
       "23368               176       MacArthur BART Station               37.828410   \n",
       "82659               243  Bancroft Way at College Ave               37.869360   \n",
       "56371               196      Grand Ave at Perkins St               37.808894   \n",
       "\n",
       "       start_station_longitude  end_station_id             end_station_name  \\\n",
       "36081              -122.415408              59  S Van Ness Ave at Market St   \n",
       "17955              -122.421025             124        19th St at Florida St   \n",
       "23368              -122.266315             173     Shattuck Ave at 55th Ave   \n",
       "82659              -122.254337             245       Downtown Berkeley BART   \n",
       "56371              -122.256460             182     19th Street BART Station   \n",
       "\n",
       "       end_station_latitude  end_station_longitude  bike_id   user_type  \\\n",
       "36081             37.774814            -122.418954     1966  Subscriber   \n",
       "17955             37.760447            -122.410807     3299  Subscriber   \n",
       "23368             37.840364            -122.264488     3579  Subscriber   \n",
       "82659             37.870348            -122.267764      553  Subscriber   \n",
       "56371             37.809013            -122.268247     1834  Subscriber   \n",
       "\n",
       "       member_birth_year member_gender bike_share_for_all_trip  \n",
       "36081             1988.0          Male                      No  \n",
       "17955             1978.0        Female                      No  \n",
       "23368             1981.0          Male                      No  \n",
       "82659             1994.0          Male                      No  \n",
       "56371             1978.0          Male                      No  "
      ]
     },
     "execution_count": 4,
     "metadata": {},
     "output_type": "execute_result"
    }
   ],
   "source": [
    "# load 2018 data in to a dictionary containing a dataframe for each month\n",
    "dict_2018 = {}\n",
    "for i in range(12):\n",
    "    month = '%02d' % (i+1)\n",
    "    file = '2018_' + month + '_fordgobike.zip'\n",
    "    if os.path.exists(file):\n",
    "        dict_2018[month] = pd.read_csv(file)\n",
    "\n",
    "dict_2018['01'].sample(5)"
   ]
  },
  {
   "cell_type": "markdown",
   "metadata": {},
   "source": [
    "### Assess and Clean Data"
   ]
  },
  {
   "cell_type": "code",
   "execution_count": 5,
   "metadata": {},
   "outputs": [
    {
     "name": "stdout",
     "output_type": "stream",
     "text": [
      "Number of mismatched columns in 2018 dataframes:  0\n"
     ]
    }
   ],
   "source": [
    "# check if column names match across 2018 monthly dataframes\n",
    "mismatches_2018 = 0\n",
    "for i in range(12):\n",
    "    month = '%02d' % (i+1)\n",
    "    file = '2018_' + month + '_fordgobike.zip'\n",
    "    if os.path.exists(file):   \n",
    "        mismatches_2018 = mismatches_2018 + (dict_2018['01'].columns != dict_2018[month].columns).sum()\n",
    "        \n",
    "print('Number of mismatched columns in 2018 dataframes: ', mismatches_2018)"
   ]
  },
  {
   "cell_type": "code",
   "execution_count": 6,
   "metadata": {},
   "outputs": [
    {
     "data": {
      "text/plain": [
       "Index(['duration_sec', 'start_time', 'end_time', 'start_station_id',\n",
       "       'start_station_name', 'start_station_latitude',\n",
       "       'start_station_longitude', 'end_station_id', 'end_station_name',\n",
       "       'end_station_latitude', 'end_station_longitude', 'bike_id', 'user_type',\n",
       "       'member_birth_year', 'member_gender'],\n",
       "      dtype='object')"
      ]
     },
     "execution_count": 6,
     "metadata": {},
     "output_type": "execute_result"
    }
   ],
   "source": [
    "# look at 2017 columns\n",
    "trips_2017.columns"
   ]
  },
  {
   "cell_type": "code",
   "execution_count": 7,
   "metadata": {},
   "outputs": [
    {
     "data": {
      "text/plain": [
       "Index(['duration_sec', 'start_time', 'end_time', 'start_station_id',\n",
       "       'start_station_name', 'start_station_latitude',\n",
       "       'start_station_longitude', 'end_station_id', 'end_station_name',\n",
       "       'end_station_latitude', 'end_station_longitude', 'bike_id', 'user_type',\n",
       "       'member_birth_year', 'member_gender', 'bike_share_for_all_trip'],\n",
       "      dtype='object')"
      ]
     },
     "execution_count": 7,
     "metadata": {},
     "output_type": "execute_result"
    }
   ],
   "source": [
    "# look at 2018 columns\n",
    "dict_2018['01'].columns"
   ]
  },
  {
   "cell_type": "markdown",
   "metadata": {},
   "source": [
    "**Tidiness Cleaning**<br>\n",
    "There are 11 dataframes containing records for the same observational unit: a GoBike trip. To simplify the rest of our assessment and cleaning, first stack the 11 dataframes in to a single table. To do this, we must align the columns between the 2017 and 2018 dataframes by dropping the 'bike_share_for_all_trip' column in the 2018 dataframes."
   ]
  },
  {
   "cell_type": "code",
   "execution_count": 8,
   "metadata": {},
   "outputs": [
    {
     "data": {
      "text/html": [
       "<div>\n",
       "<style scoped>\n",
       "    .dataframe tbody tr th:only-of-type {\n",
       "        vertical-align: middle;\n",
       "    }\n",
       "\n",
       "    .dataframe tbody tr th {\n",
       "        vertical-align: top;\n",
       "    }\n",
       "\n",
       "    .dataframe thead th {\n",
       "        text-align: right;\n",
       "    }\n",
       "</style>\n",
       "<table border=\"1\" class=\"dataframe\">\n",
       "  <thead>\n",
       "    <tr style=\"text-align: right;\">\n",
       "      <th></th>\n",
       "      <th>duration_sec</th>\n",
       "      <th>start_time</th>\n",
       "      <th>end_time</th>\n",
       "      <th>start_station_id</th>\n",
       "      <th>start_station_name</th>\n",
       "      <th>start_station_latitude</th>\n",
       "      <th>start_station_longitude</th>\n",
       "      <th>end_station_id</th>\n",
       "      <th>end_station_name</th>\n",
       "      <th>end_station_latitude</th>\n",
       "      <th>end_station_longitude</th>\n",
       "      <th>bike_id</th>\n",
       "      <th>user_type</th>\n",
       "      <th>member_birth_year</th>\n",
       "      <th>member_gender</th>\n",
       "      <th>bike_share_for_all_trip</th>\n",
       "    </tr>\n",
       "  </thead>\n",
       "  <tbody>\n",
       "    <tr>\n",
       "      <th>620093</th>\n",
       "      <td>566</td>\n",
       "      <td>2018-05-01 14:06:34.5870</td>\n",
       "      <td>2018-05-01 14:16:01.2770</td>\n",
       "      <td>175.0</td>\n",
       "      <td>49th St at Telegraph Ave</td>\n",
       "      <td>37.835946</td>\n",
       "      <td>-122.262366</td>\n",
       "      <td>189.0</td>\n",
       "      <td>Genoa St at 55th St</td>\n",
       "      <td>37.839649</td>\n",
       "      <td>-122.271756</td>\n",
       "      <td>3412</td>\n",
       "      <td>Subscriber</td>\n",
       "      <td>1981.0</td>\n",
       "      <td>Male</td>\n",
       "      <td>No</td>\n",
       "    </tr>\n",
       "    <tr>\n",
       "      <th>939899</th>\n",
       "      <td>745</td>\n",
       "      <td>2018-07-13 15:35:18.0360</td>\n",
       "      <td>2018-07-13 15:47:43.3530</td>\n",
       "      <td>81.0</td>\n",
       "      <td>Berry St at 4th St</td>\n",
       "      <td>37.775880</td>\n",
       "      <td>-122.393170</td>\n",
       "      <td>15.0</td>\n",
       "      <td>San Francisco Ferry Building (Harry Bridges Pl...</td>\n",
       "      <td>37.795392</td>\n",
       "      <td>-122.394203</td>\n",
       "      <td>781</td>\n",
       "      <td>Customer</td>\n",
       "      <td>1982.0</td>\n",
       "      <td>Female</td>\n",
       "      <td>No</td>\n",
       "    </tr>\n",
       "    <tr>\n",
       "      <th>863038</th>\n",
       "      <td>1012</td>\n",
       "      <td>2018-07-25 08:39:23.6090</td>\n",
       "      <td>2018-07-25 08:56:16.3990</td>\n",
       "      <td>70.0</td>\n",
       "      <td>Central Ave at Fell St</td>\n",
       "      <td>37.773311</td>\n",
       "      <td>-122.444293</td>\n",
       "      <td>285.0</td>\n",
       "      <td>Webster St at O'Farrell St</td>\n",
       "      <td>37.783521</td>\n",
       "      <td>-122.431158</td>\n",
       "      <td>2632</td>\n",
       "      <td>Subscriber</td>\n",
       "      <td>1993.0</td>\n",
       "      <td>Female</td>\n",
       "      <td>No</td>\n",
       "    </tr>\n",
       "    <tr>\n",
       "      <th>1499738</th>\n",
       "      <td>1247</td>\n",
       "      <td>2018-10-16 07:10:11.2100</td>\n",
       "      <td>2018-10-16 07:30:58.6860</td>\n",
       "      <td>106.0</td>\n",
       "      <td>Sanchez St at 17th St</td>\n",
       "      <td>37.763242</td>\n",
       "      <td>-122.430675</td>\n",
       "      <td>16.0</td>\n",
       "      <td>Steuart St at Market St</td>\n",
       "      <td>37.794130</td>\n",
       "      <td>-122.394430</td>\n",
       "      <td>3675</td>\n",
       "      <td>Subscriber</td>\n",
       "      <td>1961.0</td>\n",
       "      <td>Female</td>\n",
       "      <td>No</td>\n",
       "    </tr>\n",
       "    <tr>\n",
       "      <th>1171650</th>\n",
       "      <td>238</td>\n",
       "      <td>2018-08-07 12:26:13.6250</td>\n",
       "      <td>2018-08-07 12:30:12.0320</td>\n",
       "      <td>7.0</td>\n",
       "      <td>Frank H Ogawa Plaza</td>\n",
       "      <td>37.804562</td>\n",
       "      <td>-122.271738</td>\n",
       "      <td>337.0</td>\n",
       "      <td>Webster St at 19th St</td>\n",
       "      <td>37.806970</td>\n",
       "      <td>-122.266588</td>\n",
       "      <td>499</td>\n",
       "      <td>Subscriber</td>\n",
       "      <td>1990.0</td>\n",
       "      <td>Male</td>\n",
       "      <td>No</td>\n",
       "    </tr>\n",
       "  </tbody>\n",
       "</table>\n",
       "</div>"
      ],
      "text/plain": [
       "         duration_sec                start_time                  end_time  \\\n",
       "620093            566  2018-05-01 14:06:34.5870  2018-05-01 14:16:01.2770   \n",
       "939899            745  2018-07-13 15:35:18.0360  2018-07-13 15:47:43.3530   \n",
       "863038           1012  2018-07-25 08:39:23.6090  2018-07-25 08:56:16.3990   \n",
       "1499738          1247  2018-10-16 07:10:11.2100  2018-10-16 07:30:58.6860   \n",
       "1171650           238  2018-08-07 12:26:13.6250  2018-08-07 12:30:12.0320   \n",
       "\n",
       "         start_station_id        start_station_name  start_station_latitude  \\\n",
       "620093              175.0  49th St at Telegraph Ave               37.835946   \n",
       "939899               81.0        Berry St at 4th St               37.775880   \n",
       "863038               70.0    Central Ave at Fell St               37.773311   \n",
       "1499738             106.0     Sanchez St at 17th St               37.763242   \n",
       "1171650               7.0       Frank H Ogawa Plaza               37.804562   \n",
       "\n",
       "         start_station_longitude  end_station_id  \\\n",
       "620093               -122.262366           189.0   \n",
       "939899               -122.393170            15.0   \n",
       "863038               -122.444293           285.0   \n",
       "1499738              -122.430675            16.0   \n",
       "1171650              -122.271738           337.0   \n",
       "\n",
       "                                          end_station_name  \\\n",
       "620093                                 Genoa St at 55th St   \n",
       "939899   San Francisco Ferry Building (Harry Bridges Pl...   \n",
       "863038                          Webster St at O'Farrell St   \n",
       "1499738                            Steuart St at Market St   \n",
       "1171650                              Webster St at 19th St   \n",
       "\n",
       "         end_station_latitude  end_station_longitude  bike_id   user_type  \\\n",
       "620093              37.839649            -122.271756     3412  Subscriber   \n",
       "939899              37.795392            -122.394203      781    Customer   \n",
       "863038              37.783521            -122.431158     2632  Subscriber   \n",
       "1499738             37.794130            -122.394430     3675  Subscriber   \n",
       "1171650             37.806970            -122.266588      499  Subscriber   \n",
       "\n",
       "         member_birth_year member_gender bike_share_for_all_trip  \n",
       "620093              1981.0          Male                      No  \n",
       "939899              1982.0        Female                      No  \n",
       "863038              1993.0        Female                      No  \n",
       "1499738             1961.0        Female                      No  \n",
       "1171650             1990.0          Male                      No  "
      ]
     },
     "execution_count": 8,
     "metadata": {},
     "output_type": "execute_result"
    }
   ],
   "source": [
    "# stack 2018 monthly dataframes\n",
    "list_2018 = []\n",
    "for i in range(12):\n",
    "    month = '%02d' % (i+1)\n",
    "    file = '2018_' + month + '_fordgobike.zip'\n",
    "    if os.path.exists(file):\n",
    "        list_2018.append(dict_2018[month])\n",
    "        \n",
    "trips_2018 = pd.concat(list_2018, ignore_index = True)\n",
    "trips_2018.sample(5)"
   ]
  },
  {
   "cell_type": "code",
   "execution_count": 9,
   "metadata": {},
   "outputs": [
    {
     "data": {
      "text/html": [
       "<div>\n",
       "<style scoped>\n",
       "    .dataframe tbody tr th:only-of-type {\n",
       "        vertical-align: middle;\n",
       "    }\n",
       "\n",
       "    .dataframe tbody tr th {\n",
       "        vertical-align: top;\n",
       "    }\n",
       "\n",
       "    .dataframe thead th {\n",
       "        text-align: right;\n",
       "    }\n",
       "</style>\n",
       "<table border=\"1\" class=\"dataframe\">\n",
       "  <thead>\n",
       "    <tr style=\"text-align: right;\">\n",
       "      <th></th>\n",
       "      <th>duration_sec</th>\n",
       "      <th>start_time</th>\n",
       "      <th>end_time</th>\n",
       "      <th>start_station_id</th>\n",
       "      <th>start_station_name</th>\n",
       "      <th>start_station_latitude</th>\n",
       "      <th>start_station_longitude</th>\n",
       "      <th>end_station_id</th>\n",
       "      <th>end_station_name</th>\n",
       "      <th>end_station_latitude</th>\n",
       "      <th>end_station_longitude</th>\n",
       "      <th>bike_id</th>\n",
       "      <th>user_type</th>\n",
       "      <th>member_birth_year</th>\n",
       "      <th>member_gender</th>\n",
       "    </tr>\n",
       "  </thead>\n",
       "  <tbody>\n",
       "    <tr>\n",
       "      <th>256770</th>\n",
       "      <td>893</td>\n",
       "      <td>2017-10-10 17:34:56.8130</td>\n",
       "      <td>2017-10-10 17:49:50.0100</td>\n",
       "      <td>78.0</td>\n",
       "      <td>Folsom St at 9th St</td>\n",
       "      <td>37.773717</td>\n",
       "      <td>-122.411647</td>\n",
       "      <td>134.0</td>\n",
       "      <td>Valencia St at 24th St</td>\n",
       "      <td>37.752428</td>\n",
       "      <td>-122.420628</td>\n",
       "      <td>2132</td>\n",
       "      <td>Subscriber</td>\n",
       "      <td>1979.0</td>\n",
       "      <td>Female</td>\n",
       "    </tr>\n",
       "    <tr>\n",
       "      <th>1333684</th>\n",
       "      <td>406</td>\n",
       "      <td>2018-06-01 18:00:44.8880</td>\n",
       "      <td>2018-06-01 18:07:31.1640</td>\n",
       "      <td>182.0</td>\n",
       "      <td>19th Street BART Station</td>\n",
       "      <td>37.809013</td>\n",
       "      <td>-122.268247</td>\n",
       "      <td>196.0</td>\n",
       "      <td>Grand Ave at Perkins St</td>\n",
       "      <td>37.808894</td>\n",
       "      <td>-122.256460</td>\n",
       "      <td>1572</td>\n",
       "      <td>Customer</td>\n",
       "      <td>1987.0</td>\n",
       "      <td>Male</td>\n",
       "    </tr>\n",
       "    <tr>\n",
       "      <th>1994060</th>\n",
       "      <td>1669</td>\n",
       "      <td>2018-10-19 11:17:16.3590</td>\n",
       "      <td>2018-10-19 11:45:05.6540</td>\n",
       "      <td>67.0</td>\n",
       "      <td>San Francisco Caltrain Station 2  (Townsend St...</td>\n",
       "      <td>37.776639</td>\n",
       "      <td>-122.395526</td>\n",
       "      <td>98.0</td>\n",
       "      <td>Valencia St at 16th St</td>\n",
       "      <td>37.765052</td>\n",
       "      <td>-122.421866</td>\n",
       "      <td>2478</td>\n",
       "      <td>Subscriber</td>\n",
       "      <td>1977.0</td>\n",
       "      <td>Male</td>\n",
       "    </tr>\n",
       "    <tr>\n",
       "      <th>634456</th>\n",
       "      <td>315</td>\n",
       "      <td>2018-02-22 21:17:20.8440</td>\n",
       "      <td>2018-02-22 21:22:36.7440</td>\n",
       "      <td>241.0</td>\n",
       "      <td>Ashby BART Station</td>\n",
       "      <td>37.852477</td>\n",
       "      <td>-122.270213</td>\n",
       "      <td>18.0</td>\n",
       "      <td>Telegraph Ave at Alcatraz Ave</td>\n",
       "      <td>37.850222</td>\n",
       "      <td>-122.260172</td>\n",
       "      <td>13</td>\n",
       "      <td>Subscriber</td>\n",
       "      <td>1979.0</td>\n",
       "      <td>Male</td>\n",
       "    </tr>\n",
       "    <tr>\n",
       "      <th>1505944</th>\n",
       "      <td>224</td>\n",
       "      <td>2018-07-06 17:55:52.0720</td>\n",
       "      <td>2018-07-06 17:59:36.3440</td>\n",
       "      <td>110.0</td>\n",
       "      <td>17th &amp; Folsom Street Park (17th St at Folsom St)</td>\n",
       "      <td>37.763708</td>\n",
       "      <td>-122.415204</td>\n",
       "      <td>109.0</td>\n",
       "      <td>17th St at Valencia St</td>\n",
       "      <td>37.763316</td>\n",
       "      <td>-122.421904</td>\n",
       "      <td>3144</td>\n",
       "      <td>Subscriber</td>\n",
       "      <td>1988.0</td>\n",
       "      <td>Male</td>\n",
       "    </tr>\n",
       "  </tbody>\n",
       "</table>\n",
       "</div>"
      ],
      "text/plain": [
       "         duration_sec                start_time                  end_time  \\\n",
       "256770            893  2017-10-10 17:34:56.8130  2017-10-10 17:49:50.0100   \n",
       "1333684           406  2018-06-01 18:00:44.8880  2018-06-01 18:07:31.1640   \n",
       "1994060          1669  2018-10-19 11:17:16.3590  2018-10-19 11:45:05.6540   \n",
       "634456            315  2018-02-22 21:17:20.8440  2018-02-22 21:22:36.7440   \n",
       "1505944           224  2018-07-06 17:55:52.0720  2018-07-06 17:59:36.3440   \n",
       "\n",
       "         start_station_id                                 start_station_name  \\\n",
       "256770               78.0                                Folsom St at 9th St   \n",
       "1333684             182.0                           19th Street BART Station   \n",
       "1994060              67.0  San Francisco Caltrain Station 2  (Townsend St...   \n",
       "634456              241.0                                 Ashby BART Station   \n",
       "1505944             110.0   17th & Folsom Street Park (17th St at Folsom St)   \n",
       "\n",
       "         start_station_latitude  start_station_longitude  end_station_id  \\\n",
       "256770                37.773717              -122.411647           134.0   \n",
       "1333684               37.809013              -122.268247           196.0   \n",
       "1994060               37.776639              -122.395526            98.0   \n",
       "634456                37.852477              -122.270213            18.0   \n",
       "1505944               37.763708              -122.415204           109.0   \n",
       "\n",
       "                      end_station_name  end_station_latitude  \\\n",
       "256770          Valencia St at 24th St             37.752428   \n",
       "1333684        Grand Ave at Perkins St             37.808894   \n",
       "1994060         Valencia St at 16th St             37.765052   \n",
       "634456   Telegraph Ave at Alcatraz Ave             37.850222   \n",
       "1505944         17th St at Valencia St             37.763316   \n",
       "\n",
       "         end_station_longitude  bike_id   user_type  member_birth_year  \\\n",
       "256770             -122.420628     2132  Subscriber             1979.0   \n",
       "1333684            -122.256460     1572    Customer             1987.0   \n",
       "1994060            -122.421866     2478  Subscriber             1977.0   \n",
       "634456             -122.260172       13  Subscriber             1979.0   \n",
       "1505944            -122.421904     3144  Subscriber             1988.0   \n",
       "\n",
       "        member_gender  \n",
       "256770         Female  \n",
       "1333684          Male  \n",
       "1994060          Male  \n",
       "634456           Male  \n",
       "1505944          Male  "
      ]
     },
     "execution_count": 9,
     "metadata": {},
     "output_type": "execute_result"
    }
   ],
   "source": [
    "# drop bike_share_for_all_trip column and stack 2017 and 2018 dataframes\n",
    "trips_2018 = trips_2018.drop(['bike_share_for_all_trip'], axis = 1)\n",
    "trips = pd.concat([trips_2017, trips_2018], ignore_index = True)\n",
    "trips.sample(5)"
   ]
  },
  {
   "cell_type": "code",
   "execution_count": 10,
   "metadata": {},
   "outputs": [
    {
     "name": "stdout",
     "output_type": "stream",
     "text": [
      "<class 'pandas.core.frame.DataFrame'>\n",
      "RangeIndex: 2117923 entries, 0 to 2117922\n",
      "Data columns (total 15 columns):\n",
      "duration_sec               2117923 non-null int64\n",
      "start_time                 2117923 non-null object\n",
      "end_time                   2117923 non-null object\n",
      "start_station_id           2106828 non-null float64\n",
      "start_station_name         2106828 non-null object\n",
      "start_station_latitude     2117923 non-null float64\n",
      "start_station_longitude    2117923 non-null float64\n",
      "end_station_id             2106828 non-null float64\n",
      "end_station_name           2106828 non-null object\n",
      "end_station_latitude       2117923 non-null float64\n",
      "end_station_longitude      2117923 non-null float64\n",
      "bike_id                    2117923 non-null int64\n",
      "user_type                  2117923 non-null object\n",
      "member_birth_year          1950773 non-null float64\n",
      "member_gender              1951203 non-null object\n",
      "dtypes: float64(7), int64(2), object(6)\n",
      "memory usage: 242.4+ MB\n"
     ]
    }
   ],
   "source": [
    "# look at data types and null value counts\n",
    "pd.options.display.max_info_rows = trips.shape[0]+1\n",
    "trips.info()"
   ]
  },
  {
   "cell_type": "code",
   "execution_count": 11,
   "metadata": {},
   "outputs": [
    {
     "data": {
      "text/html": [
       "<div>\n",
       "<style scoped>\n",
       "    .dataframe tbody tr th:only-of-type {\n",
       "        vertical-align: middle;\n",
       "    }\n",
       "\n",
       "    .dataframe tbody tr th {\n",
       "        vertical-align: top;\n",
       "    }\n",
       "\n",
       "    .dataframe thead th {\n",
       "        text-align: right;\n",
       "    }\n",
       "</style>\n",
       "<table border=\"1\" class=\"dataframe\">\n",
       "  <thead>\n",
       "    <tr style=\"text-align: right;\">\n",
       "      <th></th>\n",
       "      <th>duration_sec</th>\n",
       "      <th>start_station_id</th>\n",
       "      <th>start_station_latitude</th>\n",
       "      <th>start_station_longitude</th>\n",
       "      <th>end_station_id</th>\n",
       "      <th>end_station_latitude</th>\n",
       "      <th>end_station_longitude</th>\n",
       "      <th>bike_id</th>\n",
       "      <th>member_birth_year</th>\n",
       "    </tr>\n",
       "  </thead>\n",
       "  <tbody>\n",
       "    <tr>\n",
       "      <th>count</th>\n",
       "      <td>2117923.00</td>\n",
       "      <td>2106828.00</td>\n",
       "      <td>2117923.00</td>\n",
       "      <td>2117923.00</td>\n",
       "      <td>2106828.00</td>\n",
       "      <td>2117923.00</td>\n",
       "      <td>2117923.00</td>\n",
       "      <td>2117923.00</td>\n",
       "      <td>1950773.00</td>\n",
       "    </tr>\n",
       "    <tr>\n",
       "      <th>mean</th>\n",
       "      <td>928.28</td>\n",
       "      <td>112.25</td>\n",
       "      <td>37.77</td>\n",
       "      <td>-122.35</td>\n",
       "      <td>110.46</td>\n",
       "      <td>37.77</td>\n",
       "      <td>-122.35</td>\n",
       "      <td>2095.03</td>\n",
       "      <td>1982.37</td>\n",
       "    </tr>\n",
       "    <tr>\n",
       "      <th>std</th>\n",
       "      <td>2730.27</td>\n",
       "      <td>96.33</td>\n",
       "      <td>0.10</td>\n",
       "      <td>0.16</td>\n",
       "      <td>96.21</td>\n",
       "      <td>0.10</td>\n",
       "      <td>0.16</td>\n",
       "      <td>1191.53</td>\n",
       "      <td>10.51</td>\n",
       "    </tr>\n",
       "    <tr>\n",
       "      <th>min</th>\n",
       "      <td>61.00</td>\n",
       "      <td>3.00</td>\n",
       "      <td>37.26</td>\n",
       "      <td>-122.47</td>\n",
       "      <td>3.00</td>\n",
       "      <td>37.26</td>\n",
       "      <td>-122.47</td>\n",
       "      <td>10.00</td>\n",
       "      <td>1881.00</td>\n",
       "    </tr>\n",
       "    <tr>\n",
       "      <th>25%</th>\n",
       "      <td>359.00</td>\n",
       "      <td>30.00</td>\n",
       "      <td>37.77</td>\n",
       "      <td>-122.41</td>\n",
       "      <td>28.00</td>\n",
       "      <td>37.77</td>\n",
       "      <td>-122.41</td>\n",
       "      <td>1092.00</td>\n",
       "      <td>1977.00</td>\n",
       "    </tr>\n",
       "    <tr>\n",
       "      <th>50%</th>\n",
       "      <td>568.00</td>\n",
       "      <td>81.00</td>\n",
       "      <td>37.78</td>\n",
       "      <td>-122.40</td>\n",
       "      <td>80.00</td>\n",
       "      <td>37.78</td>\n",
       "      <td>-122.40</td>\n",
       "      <td>2129.00</td>\n",
       "      <td>1985.00</td>\n",
       "    </tr>\n",
       "    <tr>\n",
       "      <th>75%</th>\n",
       "      <td>892.00</td>\n",
       "      <td>179.00</td>\n",
       "      <td>37.80</td>\n",
       "      <td>-122.29</td>\n",
       "      <td>178.00</td>\n",
       "      <td>37.80</td>\n",
       "      <td>-122.29</td>\n",
       "      <td>3050.00</td>\n",
       "      <td>1990.00</td>\n",
       "    </tr>\n",
       "    <tr>\n",
       "      <th>max</th>\n",
       "      <td>86369.00</td>\n",
       "      <td>378.00</td>\n",
       "      <td>45.51</td>\n",
       "      <td>-73.57</td>\n",
       "      <td>378.00</td>\n",
       "      <td>45.51</td>\n",
       "      <td>-73.57</td>\n",
       "      <td>4466.00</td>\n",
       "      <td>2000.00</td>\n",
       "    </tr>\n",
       "  </tbody>\n",
       "</table>\n",
       "</div>"
      ],
      "text/plain": [
       "       duration_sec  start_station_id  start_station_latitude  \\\n",
       "count    2117923.00        2106828.00              2117923.00   \n",
       "mean         928.28            112.25                   37.77   \n",
       "std         2730.27             96.33                    0.10   \n",
       "min           61.00              3.00                   37.26   \n",
       "25%          359.00             30.00                   37.77   \n",
       "50%          568.00             81.00                   37.78   \n",
       "75%          892.00            179.00                   37.80   \n",
       "max        86369.00            378.00                   45.51   \n",
       "\n",
       "       start_station_longitude  end_station_id  end_station_latitude  \\\n",
       "count               2117923.00      2106828.00            2117923.00   \n",
       "mean                   -122.35          110.46                 37.77   \n",
       "std                       0.16           96.21                  0.10   \n",
       "min                    -122.47            3.00                 37.26   \n",
       "25%                    -122.41           28.00                 37.77   \n",
       "50%                    -122.40           80.00                 37.78   \n",
       "75%                    -122.29          178.00                 37.80   \n",
       "max                     -73.57          378.00                 45.51   \n",
       "\n",
       "       end_station_longitude    bike_id  member_birth_year  \n",
       "count             2117923.00 2117923.00         1950773.00  \n",
       "mean                 -122.35    2095.03            1982.37  \n",
       "std                     0.16    1191.53              10.51  \n",
       "min                  -122.47      10.00            1881.00  \n",
       "25%                  -122.41    1092.00            1977.00  \n",
       "50%                  -122.40    2129.00            1985.00  \n",
       "75%                  -122.29    3050.00            1990.00  \n",
       "max                   -73.57    4466.00            2000.00  "
      ]
     },
     "execution_count": 11,
     "metadata": {},
     "output_type": "execute_result"
    }
   ],
   "source": [
    "# look at summary stats for numeric columns\n",
    "pd.set_option('display.float_format', lambda x: '%.2f' % x)\n",
    "trips.describe()"
   ]
  },
  {
   "cell_type": "code",
   "execution_count": 12,
   "metadata": {},
   "outputs": [
    {
     "data": {
      "text/plain": [
       "0"
      ]
     },
     "execution_count": 12,
     "metadata": {},
     "output_type": "execute_result"
    }
   ],
   "source": [
    "# check for duplicate rows\n",
    "sum(trips.duplicated())"
   ]
  },
  {
   "cell_type": "code",
   "execution_count": 13,
   "metadata": {},
   "outputs": [
    {
     "data": {
      "text/plain": [
       "Male      1445068\n",
       "Female     476761\n",
       "Other       29374\n",
       "Name: member_gender, dtype: int64"
      ]
     },
     "execution_count": 13,
     "metadata": {},
     "output_type": "execute_result"
    }
   ],
   "source": [
    "# check gender value counts\n",
    "trips['member_gender'].value_counts()"
   ]
  },
  {
   "cell_type": "code",
   "execution_count": 14,
   "metadata": {},
   "outputs": [
    {
     "data": {
      "text/plain": [
       "Subscriber    1759605\n",
       "Customer       358318\n",
       "Name: user_type, dtype: int64"
      ]
     },
     "execution_count": 14,
     "metadata": {},
     "output_type": "execute_result"
    }
   ],
   "source": [
    "# check user type value counts\n",
    "trips['user_type'].value_counts()"
   ]
  },
  {
   "cell_type": "code",
   "execution_count": 15,
   "metadata": {},
   "outputs": [
    {
     "data": {
      "text/plain": [
       "('2017-06-28 09:47:36.3470', '2018-10-31 23:58:54.3210')"
      ]
     },
     "execution_count": 15,
     "metadata": {},
     "output_type": "execute_result"
    }
   ],
   "source": [
    "# check earliest and latest trip date in the dataset\n",
    "trips['start_time'].min(), trips['start_time'].max()"
   ]
  },
  {
   "cell_type": "markdown",
   "metadata": {},
   "source": [
    "**Make ID Columns String Type**<br>\n",
    "Station IDs and bike ID are numeric when they should be strings. Convert 'start_station_id', 'end_station_id', and 'bike_id' to strings while preserving null values."
   ]
  },
  {
   "cell_type": "code",
   "execution_count": 16,
   "metadata": {},
   "outputs": [
    {
     "name": "stdout",
     "output_type": "stream",
     "text": [
      "<class 'pandas.core.frame.DataFrame'>\n",
      "RangeIndex: 2117923 entries, 0 to 2117922\n",
      "Data columns (total 3 columns):\n",
      "start_station_id    2106828 non-null object\n",
      "end_station_id      2106828 non-null object\n",
      "bike_id             2117923 non-null object\n",
      "dtypes: object(3)\n",
      "memory usage: 48.5+ MB\n"
     ]
    }
   ],
   "source": [
    "# convert non-null float values to strings with no decimal\n",
    "trips['start_station_id'] = trips['start_station_id'].where(\n",
    "    trips['start_station_id'].isnull(), trips['start_station_id'].map(lambda x: '{:.0f}'.format(x)).astype(str))\n",
    "trips['end_station_id'] = trips['end_station_id'].where(\n",
    "    trips['end_station_id'].isnull(), trips['end_station_id'].map(lambda x: '{:.0f}'.format(x)).astype(str))\n",
    "trips['bike_id'] = trips['bike_id'].astype(str)\n",
    "trips[['start_station_id','end_station_id','bike_id']].info()"
   ]
  },
  {
   "cell_type": "markdown",
   "metadata": {},
   "source": [
    "**Make Birth Year Integer Type**<br>\n",
    "Member birth year is a float when it should be an integer. Convert 'member_birth_year' to integer while representing null values as 0."
   ]
  },
  {
   "cell_type": "code",
   "execution_count": 17,
   "metadata": {},
   "outputs": [
    {
     "name": "stdout",
     "output_type": "stream",
     "text": [
      "<class 'pandas.core.frame.DataFrame'>\n",
      "RangeIndex: 2117923 entries, 0 to 2117922\n",
      "Data columns (total 1 columns):\n",
      "member_birth_year    2117923 non-null int32\n",
      "dtypes: int32(1)\n",
      "memory usage: 8.1 MB\n"
     ]
    }
   ],
   "source": [
    "# convert birth year to integer using 0 to represent null values\n",
    "trips['member_birth_year'] = trips['member_birth_year'].fillna(0).astype(int)\n",
    "trips[['member_birth_year']].info()"
   ]
  },
  {
   "cell_type": "code",
   "execution_count": 18,
   "metadata": {},
   "outputs": [
    {
     "data": {
      "text/plain": [
       "0       167150\n",
       "1988    111516\n",
       "1987     97533\n",
       "1985     92794\n",
       "1989     91730\n",
       "Name: member_birth_year, dtype: int64"
      ]
     },
     "execution_count": 18,
     "metadata": {},
     "output_type": "execute_result"
    }
   ],
   "source": [
    "# check that values are as expected\n",
    "trips['member_birth_year'].value_counts().head()"
   ]
  },
  {
   "cell_type": "markdown",
   "metadata": {},
   "source": [
    "**Make Start and End Times Datetime Type**<br>\n",
    "Start and end times are not datetime types. Convert 'start_time' and 'end_time' to datetime type."
   ]
  },
  {
   "cell_type": "code",
   "execution_count": 19,
   "metadata": {},
   "outputs": [
    {
     "name": "stdout",
     "output_type": "stream",
     "text": [
      "<class 'pandas.core.frame.DataFrame'>\n",
      "RangeIndex: 2117923 entries, 0 to 2117922\n",
      "Data columns (total 2 columns):\n",
      "start_time    2117923 non-null datetime64[ns]\n",
      "end_time      2117923 non-null datetime64[ns]\n",
      "dtypes: datetime64[ns](2)\n",
      "memory usage: 32.3 MB\n"
     ]
    }
   ],
   "source": [
    "# convert start and end times to datetime type\n",
    "trips['start_time'] = pd.to_datetime(trips['start_time'])\n",
    "trips['end_time'] = pd.to_datetime(trips['end_time'])\n",
    "trips[['start_time','end_time']].info()"
   ]
  },
  {
   "cell_type": "markdown",
   "metadata": {},
   "source": [
    "**Calculate Rough User Ages**<br>\n",
    "It would be interesting to look at how trips vary across age groups. While we don't have exact birth dates, we can create a rough estimate of user age from their birth year and the trip start date. Represent null ages due to missing birth year by 0."
   ]
  },
  {
   "cell_type": "code",
   "execution_count": 20,
   "metadata": {},
   "outputs": [
    {
     "data": {
      "text/plain": [
       "0     167150\n",
       "30    110399\n",
       "29     96138\n",
       "31     95174\n",
       "28     89582\n",
       "Name: rough_age, dtype: int64"
      ]
     },
     "execution_count": 20,
     "metadata": {},
     "output_type": "execute_result"
    }
   ],
   "source": [
    "# set age as the difference between trip start year and birth year if available, otherwise set age to 0\n",
    "trips.loc[trips['member_birth_year'] == 0, 'rough_age'] = 0\n",
    "trips.loc[trips['member_birth_year'] > 0, 'rough_age'] = trips['start_time'].dt.year - trips['member_birth_year']\n",
    "trips['rough_age'] = trips['rough_age'].astype(int)\n",
    "trips['rough_age'].value_counts().head()"
   ]
  },
  {
   "cell_type": "markdown",
   "metadata": {},
   "source": [
    "**Convert Trip Duration to Minutes**<br>\n",
    "I think it would be more natural to look at bike trip durations in minutes rather than seconds. Create a trip duration column in minutes rather than seconds."
   ]
  },
  {
   "cell_type": "code",
   "execution_count": 21,
   "metadata": {},
   "outputs": [
    {
     "data": {
      "text/html": [
       "<div>\n",
       "<style scoped>\n",
       "    .dataframe tbody tr th:only-of-type {\n",
       "        vertical-align: middle;\n",
       "    }\n",
       "\n",
       "    .dataframe tbody tr th {\n",
       "        vertical-align: top;\n",
       "    }\n",
       "\n",
       "    .dataframe thead th {\n",
       "        text-align: right;\n",
       "    }\n",
       "</style>\n",
       "<table border=\"1\" class=\"dataframe\">\n",
       "  <thead>\n",
       "    <tr style=\"text-align: right;\">\n",
       "      <th></th>\n",
       "      <th>duration_sec</th>\n",
       "      <th>start_time</th>\n",
       "      <th>end_time</th>\n",
       "      <th>start_station_id</th>\n",
       "      <th>start_station_name</th>\n",
       "      <th>start_station_latitude</th>\n",
       "      <th>start_station_longitude</th>\n",
       "      <th>end_station_id</th>\n",
       "      <th>end_station_name</th>\n",
       "      <th>end_station_latitude</th>\n",
       "      <th>end_station_longitude</th>\n",
       "      <th>bike_id</th>\n",
       "      <th>user_type</th>\n",
       "      <th>member_birth_year</th>\n",
       "      <th>member_gender</th>\n",
       "      <th>rough_age</th>\n",
       "      <th>duration_minutes</th>\n",
       "    </tr>\n",
       "  </thead>\n",
       "  <tbody>\n",
       "    <tr>\n",
       "      <th>0</th>\n",
       "      <td>80110</td>\n",
       "      <td>2017-12-31 16:57:39.654</td>\n",
       "      <td>2018-01-01 15:12:50.245</td>\n",
       "      <td>74</td>\n",
       "      <td>Laguna St at Hayes St</td>\n",
       "      <td>37.78</td>\n",
       "      <td>-122.43</td>\n",
       "      <td>43</td>\n",
       "      <td>San Francisco Public Library (Grove St at Hyde...</td>\n",
       "      <td>37.78</td>\n",
       "      <td>-122.42</td>\n",
       "      <td>96</td>\n",
       "      <td>Customer</td>\n",
       "      <td>1987</td>\n",
       "      <td>Male</td>\n",
       "      <td>30</td>\n",
       "      <td>1335.17</td>\n",
       "    </tr>\n",
       "    <tr>\n",
       "      <th>1</th>\n",
       "      <td>78800</td>\n",
       "      <td>2017-12-31 15:56:34.842</td>\n",
       "      <td>2018-01-01 13:49:55.617</td>\n",
       "      <td>284</td>\n",
       "      <td>Yerba Buena Center for the Arts (Howard St at ...</td>\n",
       "      <td>37.78</td>\n",
       "      <td>-122.40</td>\n",
       "      <td>96</td>\n",
       "      <td>Dolores St at 15th St</td>\n",
       "      <td>37.77</td>\n",
       "      <td>-122.43</td>\n",
       "      <td>88</td>\n",
       "      <td>Customer</td>\n",
       "      <td>1965</td>\n",
       "      <td>Female</td>\n",
       "      <td>52</td>\n",
       "      <td>1313.33</td>\n",
       "    </tr>\n",
       "    <tr>\n",
       "      <th>2</th>\n",
       "      <td>45768</td>\n",
       "      <td>2017-12-31 22:45:48.411</td>\n",
       "      <td>2018-01-01 11:28:36.883</td>\n",
       "      <td>245</td>\n",
       "      <td>Downtown Berkeley BART</td>\n",
       "      <td>37.87</td>\n",
       "      <td>-122.27</td>\n",
       "      <td>245</td>\n",
       "      <td>Downtown Berkeley BART</td>\n",
       "      <td>37.87</td>\n",
       "      <td>-122.27</td>\n",
       "      <td>1094</td>\n",
       "      <td>Customer</td>\n",
       "      <td>0</td>\n",
       "      <td>NaN</td>\n",
       "      <td>0</td>\n",
       "      <td>762.80</td>\n",
       "    </tr>\n",
       "    <tr>\n",
       "      <th>3</th>\n",
       "      <td>62172</td>\n",
       "      <td>2017-12-31 17:31:10.636</td>\n",
       "      <td>2018-01-01 10:47:23.531</td>\n",
       "      <td>60</td>\n",
       "      <td>8th St at Ringold St</td>\n",
       "      <td>37.77</td>\n",
       "      <td>-122.41</td>\n",
       "      <td>5</td>\n",
       "      <td>Powell St BART Station (Market St at 5th St)</td>\n",
       "      <td>37.78</td>\n",
       "      <td>-122.41</td>\n",
       "      <td>2831</td>\n",
       "      <td>Customer</td>\n",
       "      <td>0</td>\n",
       "      <td>NaN</td>\n",
       "      <td>0</td>\n",
       "      <td>1036.20</td>\n",
       "    </tr>\n",
       "    <tr>\n",
       "      <th>4</th>\n",
       "      <td>43603</td>\n",
       "      <td>2017-12-31 14:23:14.001</td>\n",
       "      <td>2018-01-01 02:29:57.571</td>\n",
       "      <td>239</td>\n",
       "      <td>Bancroft Way at Telegraph Ave</td>\n",
       "      <td>37.87</td>\n",
       "      <td>-122.26</td>\n",
       "      <td>247</td>\n",
       "      <td>Fulton St at Bancroft Way</td>\n",
       "      <td>37.87</td>\n",
       "      <td>-122.27</td>\n",
       "      <td>3167</td>\n",
       "      <td>Subscriber</td>\n",
       "      <td>1997</td>\n",
       "      <td>Female</td>\n",
       "      <td>20</td>\n",
       "      <td>726.72</td>\n",
       "    </tr>\n",
       "  </tbody>\n",
       "</table>\n",
       "</div>"
      ],
      "text/plain": [
       "   duration_sec              start_time                end_time  \\\n",
       "0         80110 2017-12-31 16:57:39.654 2018-01-01 15:12:50.245   \n",
       "1         78800 2017-12-31 15:56:34.842 2018-01-01 13:49:55.617   \n",
       "2         45768 2017-12-31 22:45:48.411 2018-01-01 11:28:36.883   \n",
       "3         62172 2017-12-31 17:31:10.636 2018-01-01 10:47:23.531   \n",
       "4         43603 2017-12-31 14:23:14.001 2018-01-01 02:29:57.571   \n",
       "\n",
       "  start_station_id                                 start_station_name  \\\n",
       "0               74                              Laguna St at Hayes St   \n",
       "1              284  Yerba Buena Center for the Arts (Howard St at ...   \n",
       "2              245                             Downtown Berkeley BART   \n",
       "3               60                               8th St at Ringold St   \n",
       "4              239                      Bancroft Way at Telegraph Ave   \n",
       "\n",
       "   start_station_latitude  start_station_longitude end_station_id  \\\n",
       "0                   37.78                  -122.43             43   \n",
       "1                   37.78                  -122.40             96   \n",
       "2                   37.87                  -122.27            245   \n",
       "3                   37.77                  -122.41              5   \n",
       "4                   37.87                  -122.26            247   \n",
       "\n",
       "                                    end_station_name  end_station_latitude  \\\n",
       "0  San Francisco Public Library (Grove St at Hyde...                 37.78   \n",
       "1                              Dolores St at 15th St                 37.77   \n",
       "2                             Downtown Berkeley BART                 37.87   \n",
       "3       Powell St BART Station (Market St at 5th St)                 37.78   \n",
       "4                          Fulton St at Bancroft Way                 37.87   \n",
       "\n",
       "   end_station_longitude bike_id   user_type  member_birth_year member_gender  \\\n",
       "0                -122.42      96    Customer               1987          Male   \n",
       "1                -122.43      88    Customer               1965        Female   \n",
       "2                -122.27    1094    Customer                  0           NaN   \n",
       "3                -122.41    2831    Customer                  0           NaN   \n",
       "4                -122.27    3167  Subscriber               1997        Female   \n",
       "\n",
       "   rough_age  duration_minutes  \n",
       "0         30           1335.17  \n",
       "1         52           1313.33  \n",
       "2          0            762.80  \n",
       "3          0           1036.20  \n",
       "4         20            726.72  "
      ]
     },
     "execution_count": 21,
     "metadata": {},
     "output_type": "execute_result"
    }
   ],
   "source": [
    "# convert seconds to minutes\n",
    "trips['duration_minutes'] = trips['duration_sec']/60\n",
    "trips.head()"
   ]
  },
  {
   "cell_type": "code",
   "execution_count": 22,
   "metadata": {},
   "outputs": [
    {
     "data": {
      "text/html": [
       "<div>\n",
       "<style scoped>\n",
       "    .dataframe tbody tr th:only-of-type {\n",
       "        vertical-align: middle;\n",
       "    }\n",
       "\n",
       "    .dataframe tbody tr th {\n",
       "        vertical-align: top;\n",
       "    }\n",
       "\n",
       "    .dataframe thead th {\n",
       "        text-align: right;\n",
       "    }\n",
       "</style>\n",
       "<table border=\"1\" class=\"dataframe\">\n",
       "  <thead>\n",
       "    <tr style=\"text-align: right;\">\n",
       "      <th></th>\n",
       "      <th>duration_sec</th>\n",
       "      <th>start_station_latitude</th>\n",
       "      <th>start_station_longitude</th>\n",
       "      <th>end_station_latitude</th>\n",
       "      <th>end_station_longitude</th>\n",
       "      <th>member_birth_year</th>\n",
       "      <th>rough_age</th>\n",
       "      <th>duration_minutes</th>\n",
       "    </tr>\n",
       "  </thead>\n",
       "  <tbody>\n",
       "    <tr>\n",
       "      <th>count</th>\n",
       "      <td>2117923.00</td>\n",
       "      <td>2117923.00</td>\n",
       "      <td>2117923.00</td>\n",
       "      <td>2117923.00</td>\n",
       "      <td>2117923.00</td>\n",
       "      <td>2117923.00</td>\n",
       "      <td>2117923.00</td>\n",
       "      <td>2117923.00</td>\n",
       "    </tr>\n",
       "    <tr>\n",
       "      <th>mean</th>\n",
       "      <td>928.28</td>\n",
       "      <td>37.77</td>\n",
       "      <td>-122.35</td>\n",
       "      <td>37.77</td>\n",
       "      <td>-122.35</td>\n",
       "      <td>1825.92</td>\n",
       "      <td>32.60</td>\n",
       "      <td>15.47</td>\n",
       "    </tr>\n",
       "    <tr>\n",
       "      <th>std</th>\n",
       "      <td>2730.27</td>\n",
       "      <td>0.10</td>\n",
       "      <td>0.16</td>\n",
       "      <td>0.10</td>\n",
       "      <td>0.16</td>\n",
       "      <td>534.58</td>\n",
       "      <td>13.86</td>\n",
       "      <td>45.50</td>\n",
       "    </tr>\n",
       "    <tr>\n",
       "      <th>min</th>\n",
       "      <td>61.00</td>\n",
       "      <td>37.26</td>\n",
       "      <td>-122.47</td>\n",
       "      <td>37.26</td>\n",
       "      <td>-122.47</td>\n",
       "      <td>0.00</td>\n",
       "      <td>0.00</td>\n",
       "      <td>1.02</td>\n",
       "    </tr>\n",
       "    <tr>\n",
       "      <th>25%</th>\n",
       "      <td>359.00</td>\n",
       "      <td>37.77</td>\n",
       "      <td>-122.41</td>\n",
       "      <td>37.77</td>\n",
       "      <td>-122.41</td>\n",
       "      <td>1973.00</td>\n",
       "      <td>26.00</td>\n",
       "      <td>5.98</td>\n",
       "    </tr>\n",
       "    <tr>\n",
       "      <th>50%</th>\n",
       "      <td>568.00</td>\n",
       "      <td>37.78</td>\n",
       "      <td>-122.40</td>\n",
       "      <td>37.78</td>\n",
       "      <td>-122.40</td>\n",
       "      <td>1984.00</td>\n",
       "      <td>32.00</td>\n",
       "      <td>9.47</td>\n",
       "    </tr>\n",
       "    <tr>\n",
       "      <th>75%</th>\n",
       "      <td>892.00</td>\n",
       "      <td>37.80</td>\n",
       "      <td>-122.29</td>\n",
       "      <td>37.80</td>\n",
       "      <td>-122.29</td>\n",
       "      <td>1989.00</td>\n",
       "      <td>40.00</td>\n",
       "      <td>14.87</td>\n",
       "    </tr>\n",
       "    <tr>\n",
       "      <th>max</th>\n",
       "      <td>86369.00</td>\n",
       "      <td>45.51</td>\n",
       "      <td>-73.57</td>\n",
       "      <td>45.51</td>\n",
       "      <td>-73.57</td>\n",
       "      <td>2000.00</td>\n",
       "      <td>137.00</td>\n",
       "      <td>1439.48</td>\n",
       "    </tr>\n",
       "  </tbody>\n",
       "</table>\n",
       "</div>"
      ],
      "text/plain": [
       "       duration_sec  start_station_latitude  start_station_longitude  \\\n",
       "count    2117923.00              2117923.00               2117923.00   \n",
       "mean         928.28                   37.77                  -122.35   \n",
       "std         2730.27                    0.10                     0.16   \n",
       "min           61.00                   37.26                  -122.47   \n",
       "25%          359.00                   37.77                  -122.41   \n",
       "50%          568.00                   37.78                  -122.40   \n",
       "75%          892.00                   37.80                  -122.29   \n",
       "max        86369.00                   45.51                   -73.57   \n",
       "\n",
       "       end_station_latitude  end_station_longitude  member_birth_year  \\\n",
       "count            2117923.00             2117923.00         2117923.00   \n",
       "mean                  37.77                -122.35            1825.92   \n",
       "std                    0.10                   0.16             534.58   \n",
       "min                   37.26                -122.47               0.00   \n",
       "25%                   37.77                -122.41            1973.00   \n",
       "50%                   37.78                -122.40            1984.00   \n",
       "75%                   37.80                -122.29            1989.00   \n",
       "max                   45.51                 -73.57            2000.00   \n",
       "\n",
       "       rough_age  duration_minutes  \n",
       "count 2117923.00        2117923.00  \n",
       "mean       32.60             15.47  \n",
       "std        13.86             45.50  \n",
       "min         0.00              1.02  \n",
       "25%        26.00              5.98  \n",
       "50%        32.00              9.47  \n",
       "75%        40.00             14.87  \n",
       "max       137.00           1439.48  "
      ]
     },
     "execution_count": 22,
     "metadata": {},
     "output_type": "execute_result"
    }
   ],
   "source": [
    "# take one more look at descriptive stats for numeric variables\n",
    "trips.describe()"
   ]
  },
  {
   "cell_type": "markdown",
   "metadata": {},
   "source": [
    "### What is the structure of your dataset?\n",
    "\n",
    "After stacking, our dataset is a single table of GoBike trip records where each row contains information related to a single trip.\n",
    "\n",
    "### What is/are the main feature(s) of interest in your dataset?\n",
    "\n",
    "I think the main features of interest for this dataset would be to better understand the characteristics of the user population so Ford can better meet the needs of existing users and identify potential areas to attract new users.\n",
    "\n",
    "### What features in the dataset do you think will help support your investigation into your feature(s) of interest?\n",
    "\n",
    "Information about users such as birth year and gender can give us insight regarding the user population. Information about trip location and duration can give us insight regarding how the population utilizes GoBikes."
   ]
  },
  {
   "cell_type": "markdown",
   "metadata": {},
   "source": [
    "## Univariate Exploration"
   ]
  },
  {
   "cell_type": "code",
   "execution_count": 23,
   "metadata": {},
   "outputs": [
    {
     "data": {
      "image/png": "[encoded data removed]",
      "text/plain": [
       "<Figure size 1008x720 with 9 Axes>"
      ]
     },
     "metadata": {
      "needs_background": "light"
     },
     "output_type": "display_data"
    }
   ],
   "source": [
    "# get a quick overview of the distributions of numeric variables\n",
    "trips.hist(figsize = (14,10));"
   ]
  },
  {
   "cell_type": "markdown",
   "metadata": {},
   "source": [
    "Clearly there are some outliers in the duration, latitude, and longitude histograms that create a right skew and lead to very uninformative graphs where practically all of the values are placed in a single bin. Also, the birth year and rough age histograms would be much more useful if we removed 0s from those columns prior to plotting."
   ]
  },
  {
   "cell_type": "markdown",
   "metadata": {},
   "source": [
    "**Duration Histogram**<br>\n",
    "Given the right skew of duration above, let's look at a log transformation of trip duration."
   ]
  },
  {
   "cell_type": "code",
   "execution_count": 24,
   "metadata": {},
   "outputs": [
    {
     "data": {
      "image/png": "[encoded data removed]",
      "text/plain": [
       "<Figure size 720x576 with 1 Axes>"
      ]
     },
     "metadata": {
      "needs_background": "light"
     },
     "output_type": "display_data"
    }
   ],
   "source": [
    "# create a histogram of duration on log scale\n",
    "bins = 10 ** np.arange(0, 3+0.05, 0.05)\n",
    "ticks = [1, 3, 10, 30, 100, 300, 1000, 3000]\n",
    "labels = ['{}'.format(val) for val in ticks]\n",
    "\n",
    "plt.figure(figsize=(10,8))\n",
    "plt.hist(data = trips, x = 'duration_minutes', bins = bins)\n",
    "plt.xscale('log')\n",
    "plt.xticks(ticks, labels)\n",
    "plt.xlabel('Duration (Minutes)')\n",
    "plt.ylabel('Number of Trips')\n",
    "plt.title('GoBike Trip Duration');"
   ]
  },
  {
   "cell_type": "markdown",
   "metadata": {},
   "source": [
    "The log transformation of duration looks roughly normally distributed with an elongated right tail. Although there are some outliers in terms of trip duration, the maximum is still only about 24 hours, which seems plausible and I don't think needs to be excluded on that fact alone."
   ]
  },
  {
   "cell_type": "markdown",
   "metadata": {},
   "source": [
    "**Rough Age Histogram**<br>\n",
    "We can improve the histogram of rough user ages by excluding users with no age (currently represented by 0) and adjusting the bins."
   ]
  },
  {
   "cell_type": "code",
   "execution_count": 25,
   "metadata": {},
   "outputs": [
    {
     "data": {
      "image/png": "[encoded data removed]",
      "text/plain": [
       "<Figure size 720x576 with 1 Axes>"
      ]
     },
     "metadata": {
      "needs_background": "light"
     },
     "output_type": "display_data"
    }
   ],
   "source": [
    "plt.figure(figsize=(10,8))\n",
    "trips_age = trips.query('rough_age > 0')\n",
    "bins = np.arange(0, trips_age['rough_age'].max()+2, 2)\n",
    "plt.hist(data = trips_age, x = 'rough_age', bins = bins)\n",
    "plt.xlabel('rough_age')\n",
    "plt.ylabel('number of trips');"
   ]
  },
  {
   "cell_type": "markdown",
   "metadata": {},
   "source": [
    "The age of users appears to be right skewed and centered around ages 20 to 45. I would guess that there is a minimum age of 18 required to use a GoBike because that is the minimum age observed. There are a handful of trips with users over age 100, but it isn't enough to worry about trying to identify which are legitimate or not in my opinion."
   ]
  },
  {
   "cell_type": "markdown",
   "metadata": {},
   "source": [
    "**Trip Frequency Time Series**<br>\n",
    "To get a sense for how GoBike usage has been growing over time I think it would make the most sense to look at the number of trips per week over time. I expect usage will be influenced by the day of the week which is why we might prefer to look at the week level rather than the month level, along with the fact that some months have more days than others."
   ]
  },
  {
   "cell_type": "code",
   "execution_count": 26,
   "metadata": {},
   "outputs": [
    {
     "data": {
      "image/png": "[encoded data removed]",
      "text/plain": [
       "<Figure size 1080x576 with 1 Axes>"
      ]
     },
     "metadata": {
      "needs_background": "light"
     },
     "output_type": "display_data"
    }
   ],
   "source": [
    "# create a bar chart illustrating growth in number of trips per week over time\n",
    "base_color = sb.color_palette()[0]\n",
    "trips['start_year'] = trips['start_time'].dt.year\n",
    "trips['start_week'] = trips['start_time'].dt.week\n",
    "trips_per_week = trips.groupby(['start_year', 'start_week'])['bike_id'].count()\n",
    "trips_per_week.plot(kind='bar', figsize=(15,8), color = base_color)\n",
    "plt.xlabel('(Year, Week)')\n",
    "plt.ylabel('Number of Trips')\n",
    "plt.title('GoBike Utilization by Week');"
   ]
  },
  {
   "cell_type": "markdown",
   "metadata": {},
   "source": [
    "We can see that there has been a fair amount of growth in GoBike usage given the slightly more than one year's worth of data we have. The most recent week is likely not complete which is why we see a large dip. The same might be true of data for the earliest trips in this data because the starting point is so low, or it may have simply been a very fast growth at the beginning. I can also see a notable dip in usage around the last week of 2017, which makes sense that people would be commuting less during the holiday break."
   ]
  },
  {
   "cell_type": "markdown",
   "metadata": {},
   "source": [
    "**Day of the Week Bar Chart**<br>\n",
    "To see whether usage patterns vary by day of the week, we can plot the number of trips per day in a bar chart."
   ]
  },
  {
   "cell_type": "code",
   "execution_count": 27,
   "metadata": {
    "scrolled": false
   },
   "outputs": [
    {
     "data": {
      "image/png": "[encoded data removed]",
      "text/plain": [
       "<Figure size 720x576 with 1 Axes>"
      ]
     },
     "metadata": {
      "needs_background": "light"
     },
     "output_type": "display_data"
    }
   ],
   "source": [
    "# create a bar chart counting trips per day of the week\n",
    "trips['start_day_of_week'] = trips['start_time'].dt.weekday\n",
    "trips_per_week = trips.groupby('start_day_of_week')['bike_id'].count()\n",
    "\n",
    "plt.figure(figsize=(10,8))\n",
    "sb.countplot(data = trips, x = 'start_day_of_week', color = base_color)\n",
    "\n",
    "ticks = [0, 1, 2, 3, 4, 5, 6]\n",
    "labels = ['Monday','Tuesday','Wednesday','Thursday','Friday','Saturday','Sunday']\n",
    "plt.xticks(ticks, labels, rotation = 90)\n",
    "plt.xlabel('Day of the Week')\n",
    "plt.ylabel('Number of Trips')\n",
    "plt.title('GoBike Utilization by Day of the Week');"
   ]
  },
  {
   "cell_type": "markdown",
   "metadata": {},
   "source": [
    "There is generally higher usage during the week as opposed to on weekends."
   ]
  },
  {
   "cell_type": "markdown",
   "metadata": {},
   "source": [
    "**User Gender Bar Chart**<br>\n",
    "To look at the gender composition of users, we can plot the number of trips for each gender in a bar chart."
   ]
  },
  {
   "cell_type": "code",
   "execution_count": 28,
   "metadata": {},
   "outputs": [
    {
     "data": {
      "image/png": "[encoded data removed]",
      "text/plain": [
       "<Figure size 720x576 with 1 Axes>"
      ]
     },
     "metadata": {
      "needs_background": "light"
     },
     "output_type": "display_data"
    }
   ],
   "source": [
    "# create a bar chart counting trips by user gender\n",
    "plt.figure(figsize=(10,8))\n",
    "sb.countplot(data = trips, x = 'member_gender', color = base_color)\n",
    "plt.ylabel('number of trips');"
   ]
  },
  {
   "cell_type": "markdown",
   "metadata": {},
   "source": [
    "The majority of trips are taken by male users."
   ]
  },
  {
   "cell_type": "markdown",
   "metadata": {},
   "source": [
    "**User Type Bar Chart**<br>\n",
    "To look at what share of users are subscribers, we can plot the number of trips for each user type in a bar chart."
   ]
  },
  {
   "cell_type": "code",
   "execution_count": 29,
   "metadata": {},
   "outputs": [
    {
     "data": {
      "image/png": "[encoded data removed]",
      "text/plain": [
       "<Figure size 720x576 with 1 Axes>"
      ]
     },
     "metadata": {
      "needs_background": "light"
     },
     "output_type": "display_data"
    }
   ],
   "source": [
    "# create a bar chart counting trips by user type\n",
    "plt.figure(figsize=(10,8))\n",
    "sb.countplot(data = trips, x = 'user_type', color = base_color)\n",
    "plt.ylabel('number of trips');"
   ]
  },
  {
   "cell_type": "markdown",
   "metadata": {},
   "source": [
    "The majority of trips are taken by Subscribers."
   ]
  },
  {
   "cell_type": "markdown",
   "metadata": {},
   "source": [
    "### Discuss the distribution(s) of your variable(s) of interest. Were there any unusual points? Did you need to perform any transformations?\n",
    "\n",
    "A quick plot of histograms for each numeric variable in the dataframe was not nearly as informative as individually tailored plots. I performed a log transformation on trip duration due to the observed right skew.\n",
    "\n",
    "### Of the features you investigated, were there any unusual distributions? Did you perform any operations on the data to tidy, adjust, or change the form of the data? If so, why did you do this?\n",
    "\n",
    "I adjusted the age histogram to exclude ages of 0 which really indicates that no age was available rather than hordes of newborns riding bikes. There were a couple unusual dips in usage observed in the time series plot which may be due to lower usage near holidays or incomplete data."
   ]
  },
  {
   "cell_type": "markdown",
   "metadata": {},
   "source": [
    "## Bivariate Exploration"
   ]
  },
  {
   "cell_type": "markdown",
   "metadata": {},
   "source": [
    "**Latitude and Longitude Scatterplot**<br>\n",
    "Looking at the distribution of latitude and longitude in the describe function above along with the histograms, there are clearly some outlier locations in the data. We can use a scatter plot to identify the outliers and then look more closely at those trips to decide if we want to remove them."
   ]
  },
  {
   "cell_type": "code",
   "execution_count": 30,
   "metadata": {},
   "outputs": [
    {
     "data": {
      "image/png": "[encoded data removed]",
      "text/plain": [
       "<Figure size 720x576 with 1 Axes>"
      ]
     },
     "metadata": {
      "needs_background": "light"
     },
     "output_type": "display_data"
    }
   ],
   "source": [
    "# plot a scatter of latitude and longitude to identify outlier trip locations\n",
    "plt.figure(figsize=(10,8))\n",
    "sb.regplot(data = trips, x = 'start_station_latitude', y = 'start_station_longitude', fit_reg = False,\n",
    "           x_jitter = 0.1, y_jitter = 0.1, scatter_kws = {'alpha' : 1/5});"
   ]
  },
  {
   "cell_type": "markdown",
   "metadata": {},
   "source": [
    "Using jitter and transparency we can see that the majority of locations are near the (38,-120) position and there are three other distinct areas with very few trips. We can look at these outliers by querying based on longitude."
   ]
  },
  {
   "cell_type": "code",
   "execution_count": 31,
   "metadata": {},
   "outputs": [
    {
     "data": {
      "text/html": [
       "<div>\n",
       "<style scoped>\n",
       "    .dataframe tbody tr th:only-of-type {\n",
       "        vertical-align: middle;\n",
       "    }\n",
       "\n",
       "    .dataframe tbody tr th {\n",
       "        vertical-align: top;\n",
       "    }\n",
       "\n",
       "    .dataframe thead th {\n",
       "        text-align: right;\n",
       "    }\n",
       "</style>\n",
       "<table border=\"1\" class=\"dataframe\">\n",
       "  <thead>\n",
       "    <tr style=\"text-align: right;\">\n",
       "      <th></th>\n",
       "      <th>duration_sec</th>\n",
       "      <th>start_time</th>\n",
       "      <th>end_time</th>\n",
       "      <th>start_station_id</th>\n",
       "      <th>start_station_name</th>\n",
       "      <th>start_station_latitude</th>\n",
       "      <th>start_station_longitude</th>\n",
       "      <th>end_station_id</th>\n",
       "      <th>end_station_name</th>\n",
       "      <th>end_station_latitude</th>\n",
       "      <th>end_station_longitude</th>\n",
       "      <th>bike_id</th>\n",
       "      <th>user_type</th>\n",
       "      <th>member_birth_year</th>\n",
       "      <th>member_gender</th>\n",
       "      <th>rough_age</th>\n",
       "      <th>duration_minutes</th>\n",
       "      <th>start_year</th>\n",
       "      <th>start_week</th>\n",
       "      <th>start_day_of_week</th>\n",
       "    </tr>\n",
       "  </thead>\n",
       "  <tbody>\n",
       "    <tr>\n",
       "      <th>1153196</th>\n",
       "      <td>283</td>\n",
       "      <td>2018-06-29 08:57:14.525</td>\n",
       "      <td>2018-06-29 09:01:57.582</td>\n",
       "      <td>NaN</td>\n",
       "      <td>NaN</td>\n",
       "      <td>45.51</td>\n",
       "      <td>-73.57</td>\n",
       "      <td>NaN</td>\n",
       "      <td>NaN</td>\n",
       "      <td>45.51</td>\n",
       "      <td>-73.57</td>\n",
       "      <td>4295</td>\n",
       "      <td>Subscriber</td>\n",
       "      <td>1977</td>\n",
       "      <td>Male</td>\n",
       "      <td>41</td>\n",
       "      <td>4.72</td>\n",
       "      <td>2018</td>\n",
       "      <td>26</td>\n",
       "      <td>4</td>\n",
       "    </tr>\n",
       "    <tr>\n",
       "      <th>1174814</th>\n",
       "      <td>12944</td>\n",
       "      <td>2018-06-26 10:59:12.446</td>\n",
       "      <td>2018-06-26 14:34:57.186</td>\n",
       "      <td>NaN</td>\n",
       "      <td>NaN</td>\n",
       "      <td>44.95</td>\n",
       "      <td>-93.22</td>\n",
       "      <td>NaN</td>\n",
       "      <td>NaN</td>\n",
       "      <td>44.95</td>\n",
       "      <td>-93.22</td>\n",
       "      <td>3758</td>\n",
       "      <td>Subscriber</td>\n",
       "      <td>1981</td>\n",
       "      <td>Female</td>\n",
       "      <td>37</td>\n",
       "      <td>215.73</td>\n",
       "      <td>2018</td>\n",
       "      <td>26</td>\n",
       "      <td>1</td>\n",
       "    </tr>\n",
       "    <tr>\n",
       "      <th>1199788</th>\n",
       "      <td>1443</td>\n",
       "      <td>2018-06-22 13:36:13.056</td>\n",
       "      <td>2018-06-22 14:00:16.996</td>\n",
       "      <td>NaN</td>\n",
       "      <td>NaN</td>\n",
       "      <td>45.51</td>\n",
       "      <td>-73.57</td>\n",
       "      <td>NaN</td>\n",
       "      <td>NaN</td>\n",
       "      <td>45.51</td>\n",
       "      <td>-73.57</td>\n",
       "      <td>4295</td>\n",
       "      <td>Subscriber</td>\n",
       "      <td>1977</td>\n",
       "      <td>Male</td>\n",
       "      <td>41</td>\n",
       "      <td>24.05</td>\n",
       "      <td>2018</td>\n",
       "      <td>25</td>\n",
       "      <td>4</td>\n",
       "    </tr>\n",
       "    <tr>\n",
       "      <th>1277552</th>\n",
       "      <td>191</td>\n",
       "      <td>2018-06-11 08:23:37.019</td>\n",
       "      <td>2018-06-11 08:26:48.599</td>\n",
       "      <td>NaN</td>\n",
       "      <td>NaN</td>\n",
       "      <td>45.51</td>\n",
       "      <td>-73.57</td>\n",
       "      <td>NaN</td>\n",
       "      <td>NaN</td>\n",
       "      <td>45.51</td>\n",
       "      <td>-73.57</td>\n",
       "      <td>4295</td>\n",
       "      <td>Subscriber</td>\n",
       "      <td>1989</td>\n",
       "      <td>Male</td>\n",
       "      <td>29</td>\n",
       "      <td>3.18</td>\n",
       "      <td>2018</td>\n",
       "      <td>24</td>\n",
       "      <td>0</td>\n",
       "    </tr>\n",
       "    <tr>\n",
       "      <th>1335753</th>\n",
       "      <td>69</td>\n",
       "      <td>2018-06-01 13:56:04.027</td>\n",
       "      <td>2018-06-01 13:57:13.648</td>\n",
       "      <td>NaN</td>\n",
       "      <td>NaN</td>\n",
       "      <td>40.66</td>\n",
       "      <td>-74.01</td>\n",
       "      <td>NaN</td>\n",
       "      <td>NaN</td>\n",
       "      <td>40.66</td>\n",
       "      <td>-74.01</td>\n",
       "      <td>4297</td>\n",
       "      <td>Subscriber</td>\n",
       "      <td>1976</td>\n",
       "      <td>Male</td>\n",
       "      <td>42</td>\n",
       "      <td>1.15</td>\n",
       "      <td>2018</td>\n",
       "      <td>22</td>\n",
       "      <td>4</td>\n",
       "    </tr>\n",
       "    <tr>\n",
       "      <th>1335770</th>\n",
       "      <td>126</td>\n",
       "      <td>2018-06-01 13:51:52.771</td>\n",
       "      <td>2018-06-01 13:53:58.967</td>\n",
       "      <td>NaN</td>\n",
       "      <td>NaN</td>\n",
       "      <td>40.66</td>\n",
       "      <td>-74.01</td>\n",
       "      <td>NaN</td>\n",
       "      <td>NaN</td>\n",
       "      <td>40.66</td>\n",
       "      <td>-74.01</td>\n",
       "      <td>4297</td>\n",
       "      <td>Subscriber</td>\n",
       "      <td>1987</td>\n",
       "      <td>Male</td>\n",
       "      <td>31</td>\n",
       "      <td>2.10</td>\n",
       "      <td>2018</td>\n",
       "      <td>22</td>\n",
       "      <td>4</td>\n",
       "    </tr>\n",
       "    <tr>\n",
       "      <th>1335791</th>\n",
       "      <td>67</td>\n",
       "      <td>2018-06-01 13:47:53.131</td>\n",
       "      <td>2018-06-01 13:49:00.368</td>\n",
       "      <td>NaN</td>\n",
       "      <td>NaN</td>\n",
       "      <td>40.66</td>\n",
       "      <td>-74.01</td>\n",
       "      <td>NaN</td>\n",
       "      <td>NaN</td>\n",
       "      <td>40.66</td>\n",
       "      <td>-74.01</td>\n",
       "      <td>4297</td>\n",
       "      <td>Subscriber</td>\n",
       "      <td>1987</td>\n",
       "      <td>Male</td>\n",
       "      <td>31</td>\n",
       "      <td>1.12</td>\n",
       "      <td>2018</td>\n",
       "      <td>22</td>\n",
       "      <td>4</td>\n",
       "    </tr>\n",
       "    <tr>\n",
       "      <th>1604948</th>\n",
       "      <td>501</td>\n",
       "      <td>2018-08-21 12:11:52.500</td>\n",
       "      <td>2018-08-21 12:20:13.500</td>\n",
       "      <td>NaN</td>\n",
       "      <td>NaN</td>\n",
       "      <td>45.50</td>\n",
       "      <td>-73.57</td>\n",
       "      <td>NaN</td>\n",
       "      <td>NaN</td>\n",
       "      <td>45.51</td>\n",
       "      <td>-73.57</td>\n",
       "      <td>4425</td>\n",
       "      <td>Subscriber</td>\n",
       "      <td>1980</td>\n",
       "      <td>Male</td>\n",
       "      <td>38</td>\n",
       "      <td>8.35</td>\n",
       "      <td>2018</td>\n",
       "      <td>34</td>\n",
       "      <td>1</td>\n",
       "    </tr>\n",
       "    <tr>\n",
       "      <th>1611788</th>\n",
       "      <td>1023</td>\n",
       "      <td>2018-08-20 12:07:06.500</td>\n",
       "      <td>2018-08-20 12:24:09.500</td>\n",
       "      <td>NaN</td>\n",
       "      <td>NaN</td>\n",
       "      <td>45.50</td>\n",
       "      <td>-73.57</td>\n",
       "      <td>NaN</td>\n",
       "      <td>NaN</td>\n",
       "      <td>45.51</td>\n",
       "      <td>-73.57</td>\n",
       "      <td>4425</td>\n",
       "      <td>Subscriber</td>\n",
       "      <td>1980</td>\n",
       "      <td>Male</td>\n",
       "      <td>38</td>\n",
       "      <td>17.05</td>\n",
       "      <td>2018</td>\n",
       "      <td>34</td>\n",
       "      <td>0</td>\n",
       "    </tr>\n",
       "    <tr>\n",
       "      <th>1612386</th>\n",
       "      <td>94</td>\n",
       "      <td>2018-08-20 09:53:14.500</td>\n",
       "      <td>2018-08-20 09:54:48.500</td>\n",
       "      <td>NaN</td>\n",
       "      <td>NaN</td>\n",
       "      <td>45.51</td>\n",
       "      <td>-73.57</td>\n",
       "      <td>NaN</td>\n",
       "      <td>NaN</td>\n",
       "      <td>45.51</td>\n",
       "      <td>-73.57</td>\n",
       "      <td>4425</td>\n",
       "      <td>Subscriber</td>\n",
       "      <td>1980</td>\n",
       "      <td>Male</td>\n",
       "      <td>38</td>\n",
       "      <td>1.57</td>\n",
       "      <td>2018</td>\n",
       "      <td>34</td>\n",
       "      <td>0</td>\n",
       "    </tr>\n",
       "    <tr>\n",
       "      <th>1653836</th>\n",
       "      <td>3781</td>\n",
       "      <td>2018-08-13 11:23:24.700</td>\n",
       "      <td>2018-08-13 12:26:25.840</td>\n",
       "      <td>NaN</td>\n",
       "      <td>NaN</td>\n",
       "      <td>44.95</td>\n",
       "      <td>-93.22</td>\n",
       "      <td>NaN</td>\n",
       "      <td>NaN</td>\n",
       "      <td>44.95</td>\n",
       "      <td>-93.22</td>\n",
       "      <td>3763</td>\n",
       "      <td>Subscriber</td>\n",
       "      <td>1987</td>\n",
       "      <td>Male</td>\n",
       "      <td>31</td>\n",
       "      <td>63.02</td>\n",
       "      <td>2018</td>\n",
       "      <td>33</td>\n",
       "      <td>0</td>\n",
       "    </tr>\n",
       "  </tbody>\n",
       "</table>\n",
       "</div>"
      ],
      "text/plain": [
       "         duration_sec              start_time                end_time  \\\n",
       "1153196           283 2018-06-29 08:57:14.525 2018-06-29 09:01:57.582   \n",
       "1174814         12944 2018-06-26 10:59:12.446 2018-06-26 14:34:57.186   \n",
       "1199788          1443 2018-06-22 13:36:13.056 2018-06-22 14:00:16.996   \n",
       "1277552           191 2018-06-11 08:23:37.019 2018-06-11 08:26:48.599   \n",
       "1335753            69 2018-06-01 13:56:04.027 2018-06-01 13:57:13.648   \n",
       "1335770           126 2018-06-01 13:51:52.771 2018-06-01 13:53:58.967   \n",
       "1335791            67 2018-06-01 13:47:53.131 2018-06-01 13:49:00.368   \n",
       "1604948           501 2018-08-21 12:11:52.500 2018-08-21 12:20:13.500   \n",
       "1611788          1023 2018-08-20 12:07:06.500 2018-08-20 12:24:09.500   \n",
       "1612386            94 2018-08-20 09:53:14.500 2018-08-20 09:54:48.500   \n",
       "1653836          3781 2018-08-13 11:23:24.700 2018-08-13 12:26:25.840   \n",
       "\n",
       "        start_station_id start_station_name  start_station_latitude  \\\n",
       "1153196              NaN                NaN                   45.51   \n",
       "1174814              NaN                NaN                   44.95   \n",
       "1199788              NaN                NaN                   45.51   \n",
       "1277552              NaN                NaN                   45.51   \n",
       "1335753              NaN                NaN                   40.66   \n",
       "1335770              NaN                NaN                   40.66   \n",
       "1335791              NaN                NaN                   40.66   \n",
       "1604948              NaN                NaN                   45.50   \n",
       "1611788              NaN                NaN                   45.50   \n",
       "1612386              NaN                NaN                   45.51   \n",
       "1653836              NaN                NaN                   44.95   \n",
       "\n",
       "         start_station_longitude end_station_id end_station_name  \\\n",
       "1153196                   -73.57            NaN              NaN   \n",
       "1174814                   -93.22            NaN              NaN   \n",
       "1199788                   -73.57            NaN              NaN   \n",
       "1277552                   -73.57            NaN              NaN   \n",
       "1335753                   -74.01            NaN              NaN   \n",
       "1335770                   -74.01            NaN              NaN   \n",
       "1335791                   -74.01            NaN              NaN   \n",
       "1604948                   -73.57            NaN              NaN   \n",
       "1611788                   -73.57            NaN              NaN   \n",
       "1612386                   -73.57            NaN              NaN   \n",
       "1653836                   -93.22            NaN              NaN   \n",
       "\n",
       "         end_station_latitude  end_station_longitude bike_id   user_type  \\\n",
       "1153196                 45.51                 -73.57    4295  Subscriber   \n",
       "1174814                 44.95                 -93.22    3758  Subscriber   \n",
       "1199788                 45.51                 -73.57    4295  Subscriber   \n",
       "1277552                 45.51                 -73.57    4295  Subscriber   \n",
       "1335753                 40.66                 -74.01    4297  Subscriber   \n",
       "1335770                 40.66                 -74.01    4297  Subscriber   \n",
       "1335791                 40.66                 -74.01    4297  Subscriber   \n",
       "1604948                 45.51                 -73.57    4425  Subscriber   \n",
       "1611788                 45.51                 -73.57    4425  Subscriber   \n",
       "1612386                 45.51                 -73.57    4425  Subscriber   \n",
       "1653836                 44.95                 -93.22    3763  Subscriber   \n",
       "\n",
       "         member_birth_year member_gender  rough_age  duration_minutes  \\\n",
       "1153196               1977          Male         41              4.72   \n",
       "1174814               1981        Female         37            215.73   \n",
       "1199788               1977          Male         41             24.05   \n",
       "1277552               1989          Male         29              3.18   \n",
       "1335753               1976          Male         42              1.15   \n",
       "1335770               1987          Male         31              2.10   \n",
       "1335791               1987          Male         31              1.12   \n",
       "1604948               1980          Male         38              8.35   \n",
       "1611788               1980          Male         38             17.05   \n",
       "1612386               1980          Male         38              1.57   \n",
       "1653836               1987          Male         31             63.02   \n",
       "\n",
       "         start_year  start_week  start_day_of_week  \n",
       "1153196        2018          26                  4  \n",
       "1174814        2018          26                  1  \n",
       "1199788        2018          25                  4  \n",
       "1277552        2018          24                  0  \n",
       "1335753        2018          22                  4  \n",
       "1335770        2018          22                  4  \n",
       "1335791        2018          22                  4  \n",
       "1604948        2018          34                  1  \n",
       "1611788        2018          34                  0  \n",
       "1612386        2018          34                  0  \n",
       "1653836        2018          33                  0  "
      ]
     },
     "execution_count": 31,
     "metadata": {},
     "output_type": "execute_result"
    }
   ],
   "source": [
    "# look more closely at outlier locations\n",
    "trips.query('start_station_longitude > -110')"
   ]
  },
  {
   "cell_type": "markdown",
   "metadata": {},
   "source": [
    "Spot checking the three general locations on google indicates these trips occurred in Montreal, Minneapolis, and New York City. None of these trips have a station ID. Perhaps these were part of some pilot program in those areas, but let's focus on the San Francisco Bay Area trips and drop the others."
   ]
  },
  {
   "cell_type": "code",
   "execution_count": 32,
   "metadata": {},
   "outputs": [
    {
     "data": {
      "image/png": "[encoded data removed]",
      "text/plain": [
       "<Figure size 720x576 with 1 Axes>"
      ]
     },
     "metadata": {
      "needs_background": "light"
     },
     "output_type": "display_data"
    }
   ],
   "source": [
    "# drop outlier trip locations then look at the scatter of latitude and longitude again\n",
    "trips = trips.query('start_station_longitude < -110')\n",
    "\n",
    "plt.figure(figsize=(10,8))\n",
    "sb.regplot(data = trips, x = 'start_station_latitude', y = 'start_station_longitude', fit_reg = False,\n",
    "           x_jitter = 0.1, y_jitter = 0.1, scatter_kws = {'alpha' : 1/5});"
   ]
  },
  {
   "cell_type": "markdown",
   "metadata": {},
   "source": [
    "Now we see two clearly distinct regions where GoBike trips occur. Spot checking latitude and longitude from those two areas shows that the upper left appears to be trips within the San Jose area while the lower right appears to be trips within the San Francisco area."
   ]
  },
  {
   "cell_type": "markdown",
   "metadata": {},
   "source": [
    "**Day of the Week by User Type Clustered Bar Chart**<br>\n",
    "I would expect the drop in weekend usage observed above to be driven by fewer users biking to work on the weekend. I would also expect work commuters to be more likely to be subscribed if they bike every day. Let's see if the relative share of subscribed usage also drops on weekends using a clustered bar chart."
   ]
  },
  {
   "cell_type": "code",
   "execution_count": 33,
   "metadata": {},
   "outputs": [
    {
     "data": {
      "image/png": "[encoded data removed]",
      "text/plain": [
       "<Figure size 720x576 with 1 Axes>"
      ]
     },
     "metadata": {
      "needs_background": "light"
     },
     "output_type": "display_data"
    }
   ],
   "source": [
    "# create a clustered bar chart showing usage by day of the week and user type\n",
    "plt.figure(figsize=(10,8))\n",
    "ax = sb.countplot(data = trips, x = 'start_day_of_week', hue = 'user_type')\n",
    "ax.legend(loc = 1, ncol = 2, framealpha = 1, title = 'User Type')\n",
    "\n",
    "ticks = [0, 1, 2, 3, 4, 5, 6]\n",
    "labels = ['Monday','Tuesday','Wednesday','Thursday','Friday','Saturday','Sunday']\n",
    "plt.xticks(ticks, labels)\n",
    "plt.xlabel('Day of the Week')\n",
    "plt.ylabel('Number of Trips')\n",
    "plt.title('GoBike Utilization by Subscription Status and Day of Week');"
   ]
  },
  {
   "cell_type": "markdown",
   "metadata": {},
   "source": [
    "As expected, the share of trips by subscribers is much lower on the weekend than during the week, however subscribers still take about double the amount of trips on the weekend as non-subscribers (Customer)."
   ]
  },
  {
   "cell_type": "markdown",
   "metadata": {},
   "source": [
    "**Trip Duration by Day of the Week Box Plots**<br>\n",
    "To get a sense of whether trip duration varies by day of the week we can compare the box plots of trip duration by the day of week."
   ]
  },
  {
   "cell_type": "code",
   "execution_count": 34,
   "metadata": {},
   "outputs": [
    {
     "data": {
      "image/png": "[encoded data removed]",
      "text/plain": [
       "<Figure size 720x576 with 1 Axes>"
      ]
     },
     "metadata": {
      "needs_background": "light"
     },
     "output_type": "display_data"
    }
   ],
   "source": [
    "# create box plots of trip duration by day of week\n",
    "trips['log_duration_minutes'] = np.log10(trips['duration_minutes'])\n",
    "plt.figure(figsize=(10,8))\n",
    "sb.boxplot(data = trips, x = 'start_day_of_week', y = 'log_duration_minutes', color = base_color)\n",
    "\n",
    "xticks = [0, 1, 2, 3, 4, 5, 6]\n",
    "xlabels = ['Monday','Tuesday','Wednesday','Thursday','Friday','Saturday','Sunday']\n",
    "plt.xticks(xticks, xlabels, rotation = 90)\n",
    "\n",
    "ylabels = [1, 3, 10, 30, 100, 300, 1000, 3000]\n",
    "yticks = np.log10(ylabels)\n",
    "plt.yticks(yticks, ylabels)\n",
    "plt.ylabel('trip duration (minutes)');"
   ]
  },
  {
   "cell_type": "markdown",
   "metadata": {},
   "source": [
    "While there are a lot of outlier trips beyond the whiskers for every day of the week, we can see that weekend trips tend to be slightly longer and have more variation in duration."
   ]
  },
  {
   "cell_type": "markdown",
   "metadata": {},
   "source": [
    "### Talk about some of the relationships you observed in this part of the investigation. How did the feature(s) of interest vary with other features in the dataset?\n",
    "\n",
    "The share of riders that are subscribed is much higher during the week than on weekends. Trips tend to be slightly longer and have more variation in duration on weekends compared to weekdays.\n",
    "\n",
    "### Did you observe any interesting relationships between the other features (not the main feature(s) of interest)?\n",
    "\n",
    "I observed a small amount of trips with outlier latitude and longitude which I cleaned from the data. The remaining trips occur in two distinct regions: San Francisco and San Jose."
   ]
  },
  {
   "cell_type": "markdown",
   "metadata": {},
   "source": [
    "## Multivariate Exploration"
   ]
  },
  {
   "cell_type": "code",
   "execution_count": 35,
   "metadata": {},
   "outputs": [
    {
     "data": {
      "image/png": "[encoded data removed]",
      "text/plain": [
       "<Figure size 720x576 with 1 Axes>"
      ]
     },
     "metadata": {
      "needs_background": "light"
     },
     "output_type": "display_data"
    }
   ],
   "source": [
    "# create clustered box plots to compare trip duration by day of week and user type\n",
    "plt.figure(figsize=(10,8))\n",
    "sb.boxplot(data = trips, x = 'start_day_of_week', y = 'log_duration_minutes', hue = 'user_type')\n",
    "plt.legend(loc = 6, bbox_to_anchor = (1.0, 0.5))\n",
    "\n",
    "xticks = [0, 1, 2, 3, 4, 5, 6]\n",
    "xlabels = ['Monday','Tuesday','Wednesday','Thursday','Friday','Saturday','Sunday']\n",
    "plt.xticks(xticks, xlabels, rotation = 90)\n",
    "\n",
    "ylabels = [1, 3, 10, 30, 100, 300, 1000, 3000]\n",
    "yticks = np.log10(ylabels)\n",
    "plt.yticks(yticks, ylabels)\n",
    "plt.xlabel('Day of the Week')\n",
    "plt.ylabel('Duration (Minutes)')\n",
    "plt.title('GoBike Trip Duration by Subscription Status and Day of the Week');"
   ]
  },
  {
   "cell_type": "markdown",
   "metadata": {},
   "source": [
    "### Talk about some of the relationships you observed in this part of the investigation. Were there features that strengthened each other in terms of looking at your feature(s) of interest?\n",
    "\n",
    "In the clustered box plots above we can see that subscribers tend to have shorter trips than non-subscribers regardless of the day of the week.\n",
    "\n",
    "### Were there any interesting or surprising interactions between features?\n",
    "\n",
    "It is interesting that the increased trip duration on weekends mostly comes from non-subscribers."
   ]
  },
  {
   "cell_type": "code",
   "execution_count": 36,
   "metadata": {},
   "outputs": [],
   "source": [
    "# store dataframe in csv\n",
    "trips.to_csv('trips.csv')"
   ]
  }
 ],
 "metadata": {
  "kernelspec": {
   "display_name": "Python 3",
   "language": "python",
   "name": "python3"
  },
  "language_info": {
   "codemirror_mode": {
    "name": "ipython",
    "version": 3
   },
   "file_extension": ".py",
   "mimetype": "text/x-python",
   "name": "python",
   "nbconvert_exporter": "python",
   "pygments_lexer": "ipython3",
   "version": "3.7.1"
  }
 },
 "nbformat": 4,
 "nbformat_minor": 2
}
